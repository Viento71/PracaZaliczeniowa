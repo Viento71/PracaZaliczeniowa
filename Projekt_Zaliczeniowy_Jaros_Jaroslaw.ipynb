{
 "cells": [
  {
   "cell_type": "markdown",
   "metadata": {},
   "source": [
    "## Bootcamp Data Science ING - Jarosław Jaros, grupa IV"
   ]
  },
  {
   "cell_type": "markdown",
   "metadata": {},
   "source": [
    "## Projekt: Temat 2 \n",
    "Przewidywanie wzięcia pożyczki. Celem projektu jest zastosowanie modeli klasyfikacji (binarnej) do przewidzenia czy pożyczka zostanie udzielona danemu klientowi z danymi parametrami wniosku.\n",
    "\n",
    "Link do danych: https://raw.githubusercontent.com/saimadhu-polamuri/DataHakthon3X/master/dataSet/Train.csv\n",
    "\n",
    "Opis danych (najdokładniejszy jaki istnieje): https://discuss.analyticsvidhya.com/t/hackathon-3-x-predict-customer-worth-for-happy-customer-b ank/3802\n",
    "\n",
    "Zmienna celu (wypłacenie pożyczki): Disbursed\n",
    "\n",
    "Wymogi:\n",
    "\n",
    "● Zmienna LoggedIn nie może być uwzględniona w modelowaniu - należy ją od razu wyrzucić ze zbioru.\n",
    "\n",
    "● Nie usuwamy żadnych obserwacji - braki danych uzupełniamy w jakiś sposób.\n",
    "\n",
    "● Wszelkie nieoczywiste przekształcenia danych należy opatrzyć uzasadnieniem dlaczego dokonujemy tego przekształcenia (np. robimy wykres i uzasadniamy wzięci logarytmu ze zmiennej tym, że rozkład jest skośny).\n",
    "\n",
    "● Należy wykorzystać przynajmniej 3 metody klasyfikacji.\n",
    "\n",
    "● Należy uwzględnić optymalizację modeli/pipelinów.\n",
    "\n",
    "● Projekt musi być zakończony przejrzystym porównaniem przetestowanych rozwiązań (modeli/pipelinów) w postaci tabeli, gdzie jeden wiersz opisuje jedno rozwiązanie i jego wynik."
   ]
  },
  {
   "cell_type": "markdown",
   "metadata": {},
   "source": [
    "##### Datasets:\n",
    "\n",
    "Input variables:\n",
    "\n",
    "* ID - Unique ID (can not be used for predictions)\n",
    "* Gender- Sex\n",
    "* City - Current City\n",
    "* Monthly_Income - Monthly Income in rupees\n",
    "* DOB - Date of Birth\n",
    "* Lead_Creation_Date - Lead Created on date\n",
    "* Loan_Amount_Applied - Loan Amount Requested (INR)\n",
    "* Loan_Tenure_Applied - Loan Tenure Requested (in years)\n",
    "* Existing_EMI - EMI of Existing Loans (INR)\n",
    "* Employer_Name - Employer Name\n",
    "* Salary_Account- Salary account with Bank\n",
    "* Mobile_Verified - Mobile Verified (Y/N)\n",
    "* Var5- Continuous classified variable\n",
    "* Var1- Categorical variable with multiple levels\n",
    "* Loan_Amount_Submitted- Loan Amount Revised and Selected after seeing Eligibility\n",
    "* Loan_Tenure_Submitted- Loan Tenure Revised and Selected after seeing Eligibility (Years)\n",
    "* Interest_Rate- Interest Rate of Submitted Loan Amount\n",
    "* Processing_Fee- Processing Fee of Submitted Loan Amount (INR)\n",
    "* EMI_Loan_Submitted- EMI of Submitted Loan Amount (INR)\n",
    "* Filled_Form- Filled Application form post quote\n",
    "* Device_Type- Device from which application was made (Browser/ Mobile)\n",
    "* Var2- Categorical Variable with multiple Levels\n",
    "* Source- Categorical Variable with multiple Levels\n",
    "* Var4- Categorical Variable with multiple Levels\n",
    "\n",
    "\n",
    "\n",
    "##### Outcomes:\n",
    "\n",
    "* LoggedIn- Application Logged (Variable for understanding the problem – cannot be used in prediction)\n",
    "* Disbursed- Loan Disbursed (Target Variable)"
   ]
  },
  {
   "cell_type": "markdown",
   "metadata": {},
   "source": [
    "## Zaczynamy - Import podstawowych bibliotek"
   ]
  },
  {
   "cell_type": "code",
   "execution_count": 1,
   "metadata": {},
   "outputs": [],
   "source": [
    "import numpy as np\n",
    "import pandas as pd\n",
    "import seaborn as sns\n",
    "import matplotlib.pyplot as plt\n",
    "import seaborn as sns\n",
    "sns.set_theme(style=\"darkgrid\")"
   ]
  },
  {
   "cell_type": "code",
   "execution_count": 2,
   "metadata": {},
   "outputs": [],
   "source": [
    "# Ustawiam ignorowanie \"pandas warnigów\"\n",
    "import warnings\n",
    "warnings.simplefilter(action = \"ignore\", category = RuntimeWarning)\n",
    "warnings.simplefilter(action = \"ignore\", category = FutureWarning)\n"
   ]
  },
  {
   "cell_type": "markdown",
   "metadata": {},
   "source": [
    "### Import Danych \n",
    "- Dane zostały pobrane ręcznie i umieszczone w katalagu ..\\Dane"
   ]
  },
  {
   "cell_type": "code",
   "execution_count": 3,
   "metadata": {},
   "outputs": [
    {
     "name": "stdout",
     "output_type": "stream",
     "text": [
      "(87020, 26)\n"
     ]
    }
   ],
   "source": [
    "data = pd.read_csv(\"Dane/Train.csv\", sep=\",\", encoding = \"latin1\")\n",
    "print(data.shape)"
   ]
  },
  {
   "cell_type": "markdown",
   "metadata": {},
   "source": [
    "### Usuwam ze zbioru zmienne które nie mogą być używane\n",
    "- LoggedIn\n",
    "- ID "
   ]
  },
  {
   "cell_type": "code",
   "execution_count": 4,
   "metadata": {},
   "outputs": [
    {
     "name": "stdout",
     "output_type": "stream",
     "text": [
      "(87020, 24)\n"
     ]
    }
   ],
   "source": [
    "del data['ID']\n",
    "del data['LoggedIn']\n",
    "print(data.shape)"
   ]
  },
  {
   "cell_type": "code",
   "execution_count": 5,
   "metadata": {
    "scrolled": true
   },
   "outputs": [
    {
     "data": {
      "text/html": [
       "<div>\n",
       "<style scoped>\n",
       "    .dataframe tbody tr th:only-of-type {\n",
       "        vertical-align: middle;\n",
       "    }\n",
       "\n",
       "    .dataframe tbody tr th {\n",
       "        vertical-align: top;\n",
       "    }\n",
       "\n",
       "    .dataframe thead th {\n",
       "        text-align: right;\n",
       "    }\n",
       "</style>\n",
       "<table border=\"1\" class=\"dataframe\">\n",
       "  <thead>\n",
       "    <tr style=\"text-align: right;\">\n",
       "      <th></th>\n",
       "      <th>Gender</th>\n",
       "      <th>City</th>\n",
       "      <th>Monthly_Income</th>\n",
       "      <th>DOB</th>\n",
       "      <th>Lead_Creation_Date</th>\n",
       "      <th>Loan_Amount_Applied</th>\n",
       "      <th>Loan_Tenure_Applied</th>\n",
       "      <th>Existing_EMI</th>\n",
       "      <th>Employer_Name</th>\n",
       "      <th>Salary_Account</th>\n",
       "      <th>...</th>\n",
       "      <th>Loan_Tenure_Submitted</th>\n",
       "      <th>Interest_Rate</th>\n",
       "      <th>Processing_Fee</th>\n",
       "      <th>EMI_Loan_Submitted</th>\n",
       "      <th>Filled_Form</th>\n",
       "      <th>Device_Type</th>\n",
       "      <th>Var2</th>\n",
       "      <th>Source</th>\n",
       "      <th>Var4</th>\n",
       "      <th>Disbursed</th>\n",
       "    </tr>\n",
       "  </thead>\n",
       "  <tbody>\n",
       "    <tr>\n",
       "      <th>0</th>\n",
       "      <td>Female</td>\n",
       "      <td>Delhi</td>\n",
       "      <td>20000</td>\n",
       "      <td>23-May-78</td>\n",
       "      <td>15-May-15</td>\n",
       "      <td>300000.0</td>\n",
       "      <td>5.0</td>\n",
       "      <td>0.0</td>\n",
       "      <td>CYBOSOL</td>\n",
       "      <td>HDFC Bank</td>\n",
       "      <td>...</td>\n",
       "      <td>NaN</td>\n",
       "      <td>NaN</td>\n",
       "      <td>NaN</td>\n",
       "      <td>NaN</td>\n",
       "      <td>N</td>\n",
       "      <td>Web-browser</td>\n",
       "      <td>G</td>\n",
       "      <td>S122</td>\n",
       "      <td>1</td>\n",
       "      <td>0</td>\n",
       "    </tr>\n",
       "    <tr>\n",
       "      <th>1</th>\n",
       "      <td>Male</td>\n",
       "      <td>Mumbai</td>\n",
       "      <td>35000</td>\n",
       "      <td>07-Oct-85</td>\n",
       "      <td>04-May-15</td>\n",
       "      <td>200000.0</td>\n",
       "      <td>2.0</td>\n",
       "      <td>0.0</td>\n",
       "      <td>TATA CONSULTANCY SERVICES LTD (TCS)</td>\n",
       "      <td>ICICI Bank</td>\n",
       "      <td>...</td>\n",
       "      <td>2.0</td>\n",
       "      <td>13.25</td>\n",
       "      <td>NaN</td>\n",
       "      <td>6762.9</td>\n",
       "      <td>N</td>\n",
       "      <td>Web-browser</td>\n",
       "      <td>G</td>\n",
       "      <td>S122</td>\n",
       "      <td>3</td>\n",
       "      <td>0</td>\n",
       "    </tr>\n",
       "    <tr>\n",
       "      <th>2</th>\n",
       "      <td>Male</td>\n",
       "      <td>Panchkula</td>\n",
       "      <td>22500</td>\n",
       "      <td>10-Oct-81</td>\n",
       "      <td>19-May-15</td>\n",
       "      <td>600000.0</td>\n",
       "      <td>4.0</td>\n",
       "      <td>0.0</td>\n",
       "      <td>ALCHEMIST HOSPITALS LTD</td>\n",
       "      <td>State Bank of India</td>\n",
       "      <td>...</td>\n",
       "      <td>4.0</td>\n",
       "      <td>NaN</td>\n",
       "      <td>NaN</td>\n",
       "      <td>NaN</td>\n",
       "      <td>N</td>\n",
       "      <td>Web-browser</td>\n",
       "      <td>B</td>\n",
       "      <td>S143</td>\n",
       "      <td>1</td>\n",
       "      <td>0</td>\n",
       "    </tr>\n",
       "    <tr>\n",
       "      <th>3</th>\n",
       "      <td>Male</td>\n",
       "      <td>Saharsa</td>\n",
       "      <td>35000</td>\n",
       "      <td>30-Nov-87</td>\n",
       "      <td>09-May-15</td>\n",
       "      <td>1000000.0</td>\n",
       "      <td>5.0</td>\n",
       "      <td>0.0</td>\n",
       "      <td>BIHAR GOVERNMENT</td>\n",
       "      <td>State Bank of India</td>\n",
       "      <td>...</td>\n",
       "      <td>5.0</td>\n",
       "      <td>NaN</td>\n",
       "      <td>NaN</td>\n",
       "      <td>NaN</td>\n",
       "      <td>N</td>\n",
       "      <td>Web-browser</td>\n",
       "      <td>B</td>\n",
       "      <td>S143</td>\n",
       "      <td>3</td>\n",
       "      <td>0</td>\n",
       "    </tr>\n",
       "    <tr>\n",
       "      <th>4</th>\n",
       "      <td>Male</td>\n",
       "      <td>Bengaluru</td>\n",
       "      <td>100000</td>\n",
       "      <td>17-Feb-84</td>\n",
       "      <td>20-May-15</td>\n",
       "      <td>500000.0</td>\n",
       "      <td>2.0</td>\n",
       "      <td>25000.0</td>\n",
       "      <td>GLOBAL EDGE SOFTWARE</td>\n",
       "      <td>HDFC Bank</td>\n",
       "      <td>...</td>\n",
       "      <td>2.0</td>\n",
       "      <td>NaN</td>\n",
       "      <td>NaN</td>\n",
       "      <td>NaN</td>\n",
       "      <td>N</td>\n",
       "      <td>Web-browser</td>\n",
       "      <td>B</td>\n",
       "      <td>S134</td>\n",
       "      <td>3</td>\n",
       "      <td>0</td>\n",
       "    </tr>\n",
       "  </tbody>\n",
       "</table>\n",
       "<p>5 rows × 24 columns</p>\n",
       "</div>"
      ],
      "text/plain": [
       "   Gender       City  Monthly_Income        DOB Lead_Creation_Date  \\\n",
       "0  Female      Delhi           20000  23-May-78          15-May-15   \n",
       "1    Male     Mumbai           35000  07-Oct-85          04-May-15   \n",
       "2    Male  Panchkula           22500  10-Oct-81          19-May-15   \n",
       "3    Male    Saharsa           35000  30-Nov-87          09-May-15   \n",
       "4    Male  Bengaluru          100000  17-Feb-84          20-May-15   \n",
       "\n",
       "   Loan_Amount_Applied  Loan_Tenure_Applied  Existing_EMI  \\\n",
       "0             300000.0                  5.0           0.0   \n",
       "1             200000.0                  2.0           0.0   \n",
       "2             600000.0                  4.0           0.0   \n",
       "3            1000000.0                  5.0           0.0   \n",
       "4             500000.0                  2.0       25000.0   \n",
       "\n",
       "                         Employer_Name       Salary_Account  ...  \\\n",
       "0                              CYBOSOL            HDFC Bank  ...   \n",
       "1  TATA CONSULTANCY SERVICES LTD (TCS)           ICICI Bank  ...   \n",
       "2              ALCHEMIST HOSPITALS LTD  State Bank of India  ...   \n",
       "3                     BIHAR GOVERNMENT  State Bank of India  ...   \n",
       "4                 GLOBAL EDGE SOFTWARE            HDFC Bank  ...   \n",
       "\n",
       "  Loan_Tenure_Submitted  Interest_Rate Processing_Fee  EMI_Loan_Submitted  \\\n",
       "0                   NaN            NaN            NaN                 NaN   \n",
       "1                   2.0          13.25            NaN              6762.9   \n",
       "2                   4.0            NaN            NaN                 NaN   \n",
       "3                   5.0            NaN            NaN                 NaN   \n",
       "4                   2.0            NaN            NaN                 NaN   \n",
       "\n",
       "   Filled_Form  Device_Type  Var2  Source Var4 Disbursed  \n",
       "0            N  Web-browser     G    S122    1         0  \n",
       "1            N  Web-browser     G    S122    3         0  \n",
       "2            N  Web-browser     B    S143    1         0  \n",
       "3            N  Web-browser     B    S143    3         0  \n",
       "4            N  Web-browser     B    S134    3         0  \n",
       "\n",
       "[5 rows x 24 columns]"
      ]
     },
     "execution_count": 5,
     "metadata": {},
     "output_type": "execute_result"
    }
   ],
   "source": [
    "data.head()"
   ]
  },
  {
   "cell_type": "markdown",
   "metadata": {},
   "source": [
    "## Exploracyjna analiza danych"
   ]
  },
  {
   "cell_type": "markdown",
   "metadata": {},
   "source": [
    "- Zmienna celu (wypłacenie pożyczki): Disbursed\n",
    "- Sprawdzam liczebność klas"
   ]
  },
  {
   "cell_type": "code",
   "execution_count": 6,
   "metadata": {},
   "outputs": [
    {
     "data": {
      "text/plain": [
       "0    85747\n",
       "1     1273\n",
       "Name: Disbursed, dtype: int64"
      ]
     },
     "execution_count": 6,
     "metadata": {},
     "output_type": "execute_result"
    }
   ],
   "source": [
    "disbursed_counts = data['Disbursed'].value_counts()\n",
    "disbursed_counts"
   ]
  },
  {
   "cell_type": "code",
   "execution_count": 7,
   "metadata": {},
   "outputs": [
    {
     "data": {
      "image/png": "[encoded data removed]",
      "text/plain": [
       "<Figure size 432x288 with 1 Axes>"
      ]
     },
     "metadata": {},
     "output_type": "display_data"
    }
   ],
   "source": [
    "sns.countplot(x='Disbursed',data=data) \n",
    "plt.xticks((0, 1), ['Not paid', 'Paid'])\n",
    "plt.title('Liczebność klas', y=1, fontdict={'fontsize': 15});"
   ]
  },
  {
   "cell_type": "markdown",
   "metadata": {},
   "source": [
    "- policzę jeszcze % udzielonych pożyczek w stosunku do całej bazy"
   ]
  },
  {
   "cell_type": "code",
   "execution_count": 8,
   "metadata": {},
   "outputs": [
    {
     "name": "stdout",
     "output_type": "stream",
     "text": [
      "Liczba wypłaconych pożyczek = 1.46 %\n"
     ]
    }
   ],
   "source": [
    "paid = data[data['Disbursed'] == 1].shape[0]\n",
    "not_paid = data[data['Disbursed'] == 0].shape[0]\n",
    "percent_loan = paid / (paid + not_paid)\n",
    "\n",
    "print(f\"Liczba wypłaconych pożyczek = {percent_loan * 100:.2f} %\")\n"
   ]
  },
  {
   "cell_type": "markdown",
   "metadata": {},
   "source": [
    "## Wniosek - Klasy są silnie niezbalansowane !!"
   ]
  },
  {
   "cell_type": "markdown",
   "metadata": {},
   "source": [
    "### Przejrzyję po koleji wszystkie dane"
   ]
  },
  {
   "cell_type": "markdown",
   "metadata": {},
   "source": [
    "- Na początku tworzę kantenery na zmienne numeryczne i categoryczne"
   ]
  },
  {
   "cell_type": "code",
   "execution_count": 9,
   "metadata": {},
   "outputs": [],
   "source": [
    "num_variables = []\n",
    "cat_variables = []"
   ]
  },
  {
   "cell_type": "code",
   "execution_count": 10,
   "metadata": {
    "scrolled": true
   },
   "outputs": [
    {
     "name": "stdout",
     "output_type": "stream",
     "text": [
      "<class 'pandas.core.frame.DataFrame'>\n",
      "RangeIndex: 87020 entries, 0 to 87019\n",
      "Data columns (total 24 columns):\n",
      " #   Column                 Non-Null Count  Dtype  \n",
      "---  ------                 --------------  -----  \n",
      " 0   Gender                 87020 non-null  object \n",
      " 1   City                   86017 non-null  object \n",
      " 2   Monthly_Income         87020 non-null  int64  \n",
      " 3   DOB                    87020 non-null  object \n",
      " 4   Lead_Creation_Date     87020 non-null  object \n",
      " 5   Loan_Amount_Applied    86949 non-null  float64\n",
      " 6   Loan_Tenure_Applied    86949 non-null  float64\n",
      " 7   Existing_EMI           86949 non-null  float64\n",
      " 8   Employer_Name          86949 non-null  object \n",
      " 9   Salary_Account         75256 non-null  object \n",
      " 10  Mobile_Verified        87020 non-null  object \n",
      " 11  Var5                   87020 non-null  int64  \n",
      " 12  Var1                   87020 non-null  object \n",
      " 13  Loan_Amount_Submitted  52407 non-null  float64\n",
      " 14  Loan_Tenure_Submitted  52407 non-null  float64\n",
      " 15  Interest_Rate          27726 non-null  float64\n",
      " 16  Processing_Fee         27420 non-null  float64\n",
      " 17  EMI_Loan_Submitted     27726 non-null  float64\n",
      " 18  Filled_Form            87020 non-null  object \n",
      " 19  Device_Type            87020 non-null  object \n",
      " 20  Var2                   87020 non-null  object \n",
      " 21  Source                 87020 non-null  object \n",
      " 22  Var4                   87020 non-null  int64  \n",
      " 23  Disbursed              87020 non-null  int64  \n",
      "dtypes: float64(8), int64(4), object(12)\n",
      "memory usage: 15.9+ MB\n"
     ]
    }
   ],
   "source": [
    "data.info() # przejrzenie pliku"
   ]
  },
  {
   "cell_type": "code",
   "execution_count": 11,
   "metadata": {
    "scrolled": true
   },
   "outputs": [
    {
     "data": {
      "text/plain": [
       "Gender                       0\n",
       "City                      1003\n",
       "Monthly_Income               0\n",
       "DOB                          0\n",
       "Lead_Creation_Date           0\n",
       "Loan_Amount_Applied         71\n",
       "Loan_Tenure_Applied         71\n",
       "Existing_EMI                71\n",
       "Employer_Name               71\n",
       "Salary_Account           11764\n",
       "Mobile_Verified              0\n",
       "Var5                         0\n",
       "Var1                         0\n",
       "Loan_Amount_Submitted    34613\n",
       "Loan_Tenure_Submitted    34613\n",
       "Interest_Rate            59294\n",
       "Processing_Fee           59600\n",
       "EMI_Loan_Submitted       59294\n",
       "Filled_Form                  0\n",
       "Device_Type                  0\n",
       "Var2                         0\n",
       "Source                       0\n",
       "Var4                         0\n",
       "Disbursed                    0\n",
       "dtype: int64"
      ]
     },
     "execution_count": 11,
     "metadata": {},
     "output_type": "execute_result"
    }
   ],
   "source": [
    "data.isna().sum() # przejrzenie ilość braków"
   ]
  },
  {
   "cell_type": "code",
   "execution_count": 12,
   "metadata": {},
   "outputs": [
    {
     "data": {
      "text/plain": [
       "Gender                       2\n",
       "City                       697\n",
       "Monthly_Income            5825\n",
       "DOB                      11345\n",
       "Lead_Creation_Date          92\n",
       "Loan_Amount_Applied        277\n",
       "Loan_Tenure_Applied         11\n",
       "Existing_EMI              3753\n",
       "Employer_Name            43567\n",
       "Salary_Account              57\n",
       "Mobile_Verified              2\n",
       "Var5                        19\n",
       "Var1                        19\n",
       "Loan_Amount_Submitted      203\n",
       "Loan_Tenure_Submitted        6\n",
       "Interest_Rate               73\n",
       "Processing_Fee             571\n",
       "EMI_Loan_Submitted        4530\n",
       "Filled_Form                  2\n",
       "Device_Type                  2\n",
       "Var2                         7\n",
       "Source                      30\n",
       "Var4                         8\n",
       "Disbursed                    2\n",
       "dtype: int64"
      ]
     },
     "execution_count": 12,
     "metadata": {},
     "output_type": "execute_result"
    }
   ],
   "source": [
    "data.nunique() # i wartości unikalne"
   ]
  },
  {
   "cell_type": "markdown",
   "metadata": {},
   "source": [
    "## Zaczynamy od zmiennych Kategorycznych\n",
    "### - Zmienna 'Gender'"
   ]
  },
  {
   "cell_type": "code",
   "execution_count": 13,
   "metadata": {},
   "outputs": [
    {
     "data": {
      "text/plain": [
       "0"
      ]
     },
     "execution_count": 13,
     "metadata": {},
     "output_type": "execute_result"
    }
   ],
   "source": [
    "data['Gender'].isna().sum() #sprawdzam czy nie ma braków danych"
   ]
  },
  {
   "cell_type": "code",
   "execution_count": 14,
   "metadata": {},
   "outputs": [
    {
     "data": {
      "text/plain": [
       "Male      49848\n",
       "Female    37172\n",
       "Name: Gender, dtype: int64"
      ]
     },
     "execution_count": 14,
     "metadata": {},
     "output_type": "execute_result"
    }
   ],
   "source": [
    "data['Gender'].value_counts()"
   ]
  },
  {
   "cell_type": "code",
   "execution_count": 15,
   "metadata": {},
   "outputs": [
    {
     "data": {
      "image/png": "[encoded data removed]",
      "text/plain": [
       "<Figure size 432x288 with 1 Axes>"
      ]
     },
     "metadata": {},
     "output_type": "display_data"
    }
   ],
   "source": [
    "sns.countplot(x='Disbursed', hue='Gender', data=data)\n",
    "plt.title('Garden vs. Disbursed - Liczebność klas', y=1, fontdict={'fontsize': 15})\n",
    "plt.yscale('log')"
   ]
  },
  {
   "cell_type": "code",
   "execution_count": 16,
   "metadata": {},
   "outputs": [],
   "source": [
    "cat_variables.append('Gender')\n"
   ]
  },
  {
   "cell_type": "markdown",
   "metadata": {},
   "source": [
    "### - Zmienna 'City'"
   ]
  },
  {
   "cell_type": "code",
   "execution_count": 17,
   "metadata": {},
   "outputs": [
    {
     "data": {
      "text/plain": [
       "1003"
      ]
     },
     "execution_count": 17,
     "metadata": {},
     "output_type": "execute_result"
    }
   ],
   "source": [
    "data['City'].isna().sum() #sprawdzam czy nie ma braków danych"
   ]
  },
  {
   "cell_type": "code",
   "execution_count": 18,
   "metadata": {
    "scrolled": false
   },
   "outputs": [
    {
     "data": {
      "text/plain": [
       "Delhi             12527\n",
       "Bengaluru         10824\n",
       "Mumbai            10795\n",
       "Hyderabad          7272\n",
       "Chennai            6916\n",
       "                  ...  \n",
       "Surendra Nagar        1\n",
       "LUNAWADA              1\n",
       "Rampur                1\n",
       "Himatnagar            1\n",
       "Bandipore             1\n",
       "Name: City, Length: 697, dtype: int64"
      ]
     },
     "execution_count": 18,
     "metadata": {},
     "output_type": "execute_result"
    }
   ],
   "source": [
    "data['City'].value_counts()"
   ]
  },
  {
   "cell_type": "code",
   "execution_count": 19,
   "metadata": {
    "scrolled": true
   },
   "outputs": [
    {
     "data": {
      "text/plain": [
       "Delhi            12527\n",
       "Bengaluru        10824\n",
       "Mumbai           10795\n",
       "Hyderabad         7272\n",
       "Chennai           6916\n",
       "Pune              5207\n",
       "Kolkata           2888\n",
       "Ahmedabad         1788\n",
       "Jaipur            1331\n",
       "Gurgaon           1212\n",
       "Coimbatore        1147\n",
       "Thane              905\n",
       "Chandigarh         870\n",
       "Surat              802\n",
       "Visakhapatnam      764\n",
       "Indore             734\n",
       "Vadodara           624\n",
       "Nagpur             594\n",
       "Lucknow            580\n",
       "Ghaziabad          560\n",
       "Name: City, dtype: int64"
      ]
     },
     "execution_count": 19,
     "metadata": {},
     "output_type": "execute_result"
    }
   ],
   "source": [
    "data['City'].value_counts().iloc[:20]"
   ]
  },
  {
   "cell_type": "code",
   "execution_count": 20,
   "metadata": {},
   "outputs": [],
   "source": [
    "#weźmy miasta występujące u przynajmniej 1000 klientów wynik zapiszmy w nowym polu My_City dla reszty przypisze \"O\"\n",
    "data['My_City'] = data.City.map({'Delhi':'D', \n",
    "                               'Bengaluru':'B',\n",
    "                               'Mumbai':'M',\n",
    "                               'Hyderabad':'H',\n",
    "                               'Chennai': 'C',\n",
    "                               'Pune': 'P',\n",
    "                               'Kolkata':'K',\n",
    "                               'Ahmedabad':'A',\n",
    "                               'Jaipur':'J',\n",
    "                               'Gurgaon':'G',\n",
    "                               'Coimbatore':'Co'}).fillna('O')"
   ]
  },
  {
   "cell_type": "code",
   "execution_count": 21,
   "metadata": {},
   "outputs": [
    {
     "data": {
      "text/plain": [
       "0"
      ]
     },
     "execution_count": 21,
     "metadata": {},
     "output_type": "execute_result"
    }
   ],
   "source": [
    "data['My_City'].isna().sum()"
   ]
  },
  {
   "cell_type": "code",
   "execution_count": 22,
   "metadata": {},
   "outputs": [],
   "source": [
    "# Kasuje niepotrzebną już zminną. Nowe wartości sa w 'My_City'\n",
    "del data['City']"
   ]
  },
  {
   "cell_type": "code",
   "execution_count": 23,
   "metadata": {},
   "outputs": [],
   "source": [
    "cat_variables.append('My_City')"
   ]
  },
  {
   "cell_type": "code",
   "execution_count": 24,
   "metadata": {},
   "outputs": [
    {
     "data": {
      "image/png": "[encoded data removed]",
      "text/plain": [
       "<Figure size 432x288 with 1 Axes>"
      ]
     },
     "metadata": {},
     "output_type": "display_data"
    }
   ],
   "source": [
    "sns.countplot(x='Disbursed', hue='My_City', data=data)\n",
    "plt.title('My_City vs. Disbursed - Liczebność klas', x = 0.1, y=1, fontdict={'fontsize': 15})\n",
    "plt.legend()\n",
    "plt.yscale('log')\n"
   ]
  },
  {
   "cell_type": "markdown",
   "metadata": {},
   "source": [
    "## Zmienna 'DOB' i zmienna 'Load_Creation_Date' zostaną usunięte po utworzeniu z nich zmiennej AGE - wiek klienta w dniu wnioskowania o pożyczkę (dane nadmiarowe)"
   ]
  },
  {
   "cell_type": "markdown",
   "metadata": {},
   "source": [
    "### - ZMIENNA 'DOB'"
   ]
  },
  {
   "cell_type": "code",
   "execution_count": 25,
   "metadata": {},
   "outputs": [
    {
     "data": {
      "text/plain": [
       "0"
      ]
     },
     "execution_count": 25,
     "metadata": {},
     "output_type": "execute_result"
    }
   ],
   "source": [
    "#sprawdzam czy nie ma braków danych\n",
    "data['DOB'].isna().sum()"
   ]
  },
  {
   "cell_type": "code",
   "execution_count": 26,
   "metadata": {},
   "outputs": [
    {
     "data": {
      "text/plain": [
       "11-Nov-80    306\n",
       "02-Jan-70    226\n",
       "01-Jan-70    148\n",
       "01-Jan-90    131\n",
       "01-Jan-80    111\n",
       "            ... \n",
       "03-Sep-66      1\n",
       "13-Jun-63      1\n",
       "31-Dec-50      1\n",
       "12-Aug-56      1\n",
       "19-Apr-74      1\n",
       "Name: DOB, Length: 11345, dtype: int64"
      ]
     },
     "execution_count": 26,
     "metadata": {},
     "output_type": "execute_result"
    }
   ],
   "source": [
    "data['DOB'].value_counts()"
   ]
  },
  {
   "cell_type": "code",
   "execution_count": 27,
   "metadata": {},
   "outputs": [],
   "source": [
    "# Wciągam rok ze zmiennej 'DOB', \n",
    "data['DOB'] = pd.to_datetime(data['DOB'])\n",
    "data['DOB'] = [x.year for x in data['DOB']]\n",
    "# rozwiązanie problomu z datami\n",
    "data['DOB'] = np.where(data.DOB <2000, data['DOB'], data['DOB']-100)"
   ]
  },
  {
   "cell_type": "code",
   "execution_count": 28,
   "metadata": {},
   "outputs": [
    {
     "data": {
      "text/plain": [
       "1988    7134\n",
       "1987    6754\n",
       "1989    6628\n",
       "1986    6451\n",
       "1990    6224\n",
       "        ... \n",
       "1941       2\n",
       "1938       1\n",
       "1929       1\n",
       "1932       1\n",
       "1936       1\n",
       "Name: DOB, Length: 61, dtype: int64"
      ]
     },
     "execution_count": 28,
     "metadata": {},
     "output_type": "execute_result"
    }
   ],
   "source": [
    "data['DOB'].value_counts()"
   ]
  },
  {
   "cell_type": "code",
   "execution_count": 29,
   "metadata": {},
   "outputs": [
    {
     "data": {
      "text/plain": [
       "03-Jul-15    2315\n",
       "23-Jul-15    1994\n",
       "30-Jul-15    1297\n",
       "27-Jul-15    1292\n",
       "31-Jul-15    1268\n",
       "             ... \n",
       "24-May-15     502\n",
       "31-May-15     498\n",
       "12-Jul-15     475\n",
       "10-May-15     459\n",
       "14-Jun-15     373\n",
       "Name: Lead_Creation_Date, Length: 92, dtype: int64"
      ]
     },
     "execution_count": 29,
     "metadata": {},
     "output_type": "execute_result"
    }
   ],
   "source": [
    "data['Lead_Creation_Date'].value_counts()"
   ]
  },
  {
   "cell_type": "code",
   "execution_count": 30,
   "metadata": {},
   "outputs": [],
   "source": [
    "# Wciągam rok ze zmiennej 'Lead_Creation_Date'\n",
    "data['Lead_Creation_Date'] = pd.to_datetime(data['Lead_Creation_Date'])\n",
    "data['Lead_Creation_Date'] = [x.year for x in data['Lead_Creation_Date']]"
   ]
  },
  {
   "cell_type": "code",
   "execution_count": 31,
   "metadata": {},
   "outputs": [
    {
     "data": {
      "text/plain": [
       "2015    87020\n",
       "Name: Lead_Creation_Date, dtype: int64"
      ]
     },
     "execution_count": 31,
     "metadata": {},
     "output_type": "execute_result"
    }
   ],
   "source": [
    "data['Lead_Creation_Date'].value_counts()"
   ]
  },
  {
   "cell_type": "code",
   "execution_count": 32,
   "metadata": {},
   "outputs": [
    {
     "data": {
      "text/html": [
       "<div>\n",
       "<style scoped>\n",
       "    .dataframe tbody tr th:only-of-type {\n",
       "        vertical-align: middle;\n",
       "    }\n",
       "\n",
       "    .dataframe tbody tr th {\n",
       "        vertical-align: top;\n",
       "    }\n",
       "\n",
       "    .dataframe thead th {\n",
       "        text-align: right;\n",
       "    }\n",
       "</style>\n",
       "<table border=\"1\" class=\"dataframe\">\n",
       "  <thead>\n",
       "    <tr style=\"text-align: right;\">\n",
       "      <th></th>\n",
       "      <th>Gender</th>\n",
       "      <th>Monthly_Income</th>\n",
       "      <th>DOB</th>\n",
       "      <th>Lead_Creation_Date</th>\n",
       "      <th>Loan_Amount_Applied</th>\n",
       "      <th>Loan_Tenure_Applied</th>\n",
       "      <th>Existing_EMI</th>\n",
       "      <th>Employer_Name</th>\n",
       "      <th>Salary_Account</th>\n",
       "      <th>Mobile_Verified</th>\n",
       "      <th>...</th>\n",
       "      <th>Processing_Fee</th>\n",
       "      <th>EMI_Loan_Submitted</th>\n",
       "      <th>Filled_Form</th>\n",
       "      <th>Device_Type</th>\n",
       "      <th>Var2</th>\n",
       "      <th>Source</th>\n",
       "      <th>Var4</th>\n",
       "      <th>Disbursed</th>\n",
       "      <th>My_City</th>\n",
       "      <th>Age</th>\n",
       "    </tr>\n",
       "  </thead>\n",
       "  <tbody>\n",
       "    <tr>\n",
       "      <th>0</th>\n",
       "      <td>Female</td>\n",
       "      <td>20000</td>\n",
       "      <td>1978</td>\n",
       "      <td>2015</td>\n",
       "      <td>300000.0</td>\n",
       "      <td>5.0</td>\n",
       "      <td>0.0</td>\n",
       "      <td>CYBOSOL</td>\n",
       "      <td>HDFC Bank</td>\n",
       "      <td>N</td>\n",
       "      <td>...</td>\n",
       "      <td>NaN</td>\n",
       "      <td>NaN</td>\n",
       "      <td>N</td>\n",
       "      <td>Web-browser</td>\n",
       "      <td>G</td>\n",
       "      <td>S122</td>\n",
       "      <td>1</td>\n",
       "      <td>0</td>\n",
       "      <td>D</td>\n",
       "      <td>37</td>\n",
       "    </tr>\n",
       "    <tr>\n",
       "      <th>1</th>\n",
       "      <td>Male</td>\n",
       "      <td>35000</td>\n",
       "      <td>1985</td>\n",
       "      <td>2015</td>\n",
       "      <td>200000.0</td>\n",
       "      <td>2.0</td>\n",
       "      <td>0.0</td>\n",
       "      <td>TATA CONSULTANCY SERVICES LTD (TCS)</td>\n",
       "      <td>ICICI Bank</td>\n",
       "      <td>Y</td>\n",
       "      <td>...</td>\n",
       "      <td>NaN</td>\n",
       "      <td>6762.9</td>\n",
       "      <td>N</td>\n",
       "      <td>Web-browser</td>\n",
       "      <td>G</td>\n",
       "      <td>S122</td>\n",
       "      <td>3</td>\n",
       "      <td>0</td>\n",
       "      <td>M</td>\n",
       "      <td>30</td>\n",
       "    </tr>\n",
       "    <tr>\n",
       "      <th>2</th>\n",
       "      <td>Male</td>\n",
       "      <td>22500</td>\n",
       "      <td>1981</td>\n",
       "      <td>2015</td>\n",
       "      <td>600000.0</td>\n",
       "      <td>4.0</td>\n",
       "      <td>0.0</td>\n",
       "      <td>ALCHEMIST HOSPITALS LTD</td>\n",
       "      <td>State Bank of India</td>\n",
       "      <td>Y</td>\n",
       "      <td>...</td>\n",
       "      <td>NaN</td>\n",
       "      <td>NaN</td>\n",
       "      <td>N</td>\n",
       "      <td>Web-browser</td>\n",
       "      <td>B</td>\n",
       "      <td>S143</td>\n",
       "      <td>1</td>\n",
       "      <td>0</td>\n",
       "      <td>O</td>\n",
       "      <td>34</td>\n",
       "    </tr>\n",
       "    <tr>\n",
       "      <th>3</th>\n",
       "      <td>Male</td>\n",
       "      <td>35000</td>\n",
       "      <td>1987</td>\n",
       "      <td>2015</td>\n",
       "      <td>1000000.0</td>\n",
       "      <td>5.0</td>\n",
       "      <td>0.0</td>\n",
       "      <td>BIHAR GOVERNMENT</td>\n",
       "      <td>State Bank of India</td>\n",
       "      <td>Y</td>\n",
       "      <td>...</td>\n",
       "      <td>NaN</td>\n",
       "      <td>NaN</td>\n",
       "      <td>N</td>\n",
       "      <td>Web-browser</td>\n",
       "      <td>B</td>\n",
       "      <td>S143</td>\n",
       "      <td>3</td>\n",
       "      <td>0</td>\n",
       "      <td>O</td>\n",
       "      <td>28</td>\n",
       "    </tr>\n",
       "    <tr>\n",
       "      <th>4</th>\n",
       "      <td>Male</td>\n",
       "      <td>100000</td>\n",
       "      <td>1984</td>\n",
       "      <td>2015</td>\n",
       "      <td>500000.0</td>\n",
       "      <td>2.0</td>\n",
       "      <td>25000.0</td>\n",
       "      <td>GLOBAL EDGE SOFTWARE</td>\n",
       "      <td>HDFC Bank</td>\n",
       "      <td>Y</td>\n",
       "      <td>...</td>\n",
       "      <td>NaN</td>\n",
       "      <td>NaN</td>\n",
       "      <td>N</td>\n",
       "      <td>Web-browser</td>\n",
       "      <td>B</td>\n",
       "      <td>S134</td>\n",
       "      <td>3</td>\n",
       "      <td>0</td>\n",
       "      <td>B</td>\n",
       "      <td>31</td>\n",
       "    </tr>\n",
       "  </tbody>\n",
       "</table>\n",
       "<p>5 rows × 25 columns</p>\n",
       "</div>"
      ],
      "text/plain": [
       "   Gender  Monthly_Income   DOB  Lead_Creation_Date  Loan_Amount_Applied  \\\n",
       "0  Female           20000  1978                2015             300000.0   \n",
       "1    Male           35000  1985                2015             200000.0   \n",
       "2    Male           22500  1981                2015             600000.0   \n",
       "3    Male           35000  1987                2015            1000000.0   \n",
       "4    Male          100000  1984                2015             500000.0   \n",
       "\n",
       "   Loan_Tenure_Applied  Existing_EMI                        Employer_Name  \\\n",
       "0                  5.0           0.0                              CYBOSOL   \n",
       "1                  2.0           0.0  TATA CONSULTANCY SERVICES LTD (TCS)   \n",
       "2                  4.0           0.0              ALCHEMIST HOSPITALS LTD   \n",
       "3                  5.0           0.0                     BIHAR GOVERNMENT   \n",
       "4                  2.0       25000.0                 GLOBAL EDGE SOFTWARE   \n",
       "\n",
       "        Salary_Account Mobile_Verified  ...  Processing_Fee  \\\n",
       "0            HDFC Bank               N  ...             NaN   \n",
       "1           ICICI Bank               Y  ...             NaN   \n",
       "2  State Bank of India               Y  ...             NaN   \n",
       "3  State Bank of India               Y  ...             NaN   \n",
       "4            HDFC Bank               Y  ...             NaN   \n",
       "\n",
       "  EMI_Loan_Submitted  Filled_Form  Device_Type  Var2  Source  Var4 Disbursed  \\\n",
       "0                NaN            N  Web-browser     G    S122     1         0   \n",
       "1             6762.9            N  Web-browser     G    S122     3         0   \n",
       "2                NaN            N  Web-browser     B    S143     1         0   \n",
       "3                NaN            N  Web-browser     B    S143     3         0   \n",
       "4                NaN            N  Web-browser     B    S134     3         0   \n",
       "\n",
       "  My_City Age  \n",
       "0       D  37  \n",
       "1       M  30  \n",
       "2       O  34  \n",
       "3       O  28  \n",
       "4       B  31  \n",
       "\n",
       "[5 rows x 25 columns]"
      ]
     },
     "execution_count": 32,
     "metadata": {},
     "output_type": "execute_result"
    }
   ],
   "source": [
    "data['Age'] = data['Lead_Creation_Date']-data['DOB']\n",
    "data.head()"
   ]
  },
  {
   "cell_type": "code",
   "execution_count": 33,
   "metadata": {},
   "outputs": [
    {
     "data": {
      "text/plain": [
       "count    87020.000000\n",
       "mean        30.904171\n",
       "std          7.147194\n",
       "min         18.000000\n",
       "25%         26.000000\n",
       "50%         29.000000\n",
       "75%         34.000000\n",
       "max        100.000000\n",
       "Name: Age, dtype: float64"
      ]
     },
     "execution_count": 33,
     "metadata": {},
     "output_type": "execute_result"
    }
   ],
   "source": [
    "data['Age'].describe()"
   ]
  },
  {
   "cell_type": "code",
   "execution_count": 34,
   "metadata": {},
   "outputs": [
    {
     "data": {
      "text/plain": [
       "18"
      ]
     },
     "execution_count": 34,
     "metadata": {},
     "output_type": "execute_result"
    }
   ],
   "source": [
    "data[data['DOB'] < 1930].shape[0]"
   ]
  },
  {
   "cell_type": "code",
   "execution_count": 35,
   "metadata": {
    "scrolled": true
   },
   "outputs": [
    {
     "data": {
      "text/html": [
       "<div>\n",
       "<style scoped>\n",
       "    .dataframe tbody tr th:only-of-type {\n",
       "        vertical-align: middle;\n",
       "    }\n",
       "\n",
       "    .dataframe tbody tr th {\n",
       "        vertical-align: top;\n",
       "    }\n",
       "\n",
       "    .dataframe thead th {\n",
       "        text-align: right;\n",
       "    }\n",
       "</style>\n",
       "<table border=\"1\" class=\"dataframe\">\n",
       "  <thead>\n",
       "    <tr style=\"text-align: right;\">\n",
       "      <th></th>\n",
       "      <th>Gender</th>\n",
       "      <th>Monthly_Income</th>\n",
       "      <th>DOB</th>\n",
       "      <th>Lead_Creation_Date</th>\n",
       "      <th>Loan_Amount_Applied</th>\n",
       "      <th>Loan_Tenure_Applied</th>\n",
       "      <th>Existing_EMI</th>\n",
       "      <th>Employer_Name</th>\n",
       "      <th>Salary_Account</th>\n",
       "      <th>Mobile_Verified</th>\n",
       "      <th>...</th>\n",
       "      <th>Processing_Fee</th>\n",
       "      <th>EMI_Loan_Submitted</th>\n",
       "      <th>Filled_Form</th>\n",
       "      <th>Device_Type</th>\n",
       "      <th>Var2</th>\n",
       "      <th>Source</th>\n",
       "      <th>Var4</th>\n",
       "      <th>Disbursed</th>\n",
       "      <th>My_City</th>\n",
       "      <th>Age</th>\n",
       "    </tr>\n",
       "  </thead>\n",
       "  <tbody>\n",
       "    <tr>\n",
       "      <th>60139</th>\n",
       "      <td>Male</td>\n",
       "      <td>0</td>\n",
       "      <td>1915</td>\n",
       "      <td>2015</td>\n",
       "      <td>0.0</td>\n",
       "      <td>0.0</td>\n",
       "      <td>0.0</td>\n",
       "      <td>0</td>\n",
       "      <td>NaN</td>\n",
       "      <td>Y</td>\n",
       "      <td>...</td>\n",
       "      <td>NaN</td>\n",
       "      <td>NaN</td>\n",
       "      <td>N</td>\n",
       "      <td>Web-browser</td>\n",
       "      <td>G</td>\n",
       "      <td>S122</td>\n",
       "      <td>0</td>\n",
       "      <td>0</td>\n",
       "      <td>B</td>\n",
       "      <td>100</td>\n",
       "    </tr>\n",
       "    <tr>\n",
       "      <th>60141</th>\n",
       "      <td>Male</td>\n",
       "      <td>0</td>\n",
       "      <td>1915</td>\n",
       "      <td>2015</td>\n",
       "      <td>0.0</td>\n",
       "      <td>0.0</td>\n",
       "      <td>0.0</td>\n",
       "      <td>0</td>\n",
       "      <td>NaN</td>\n",
       "      <td>Y</td>\n",
       "      <td>...</td>\n",
       "      <td>NaN</td>\n",
       "      <td>NaN</td>\n",
       "      <td>N</td>\n",
       "      <td>Web-browser</td>\n",
       "      <td>G</td>\n",
       "      <td>S122</td>\n",
       "      <td>0</td>\n",
       "      <td>0</td>\n",
       "      <td>H</td>\n",
       "      <td>100</td>\n",
       "    </tr>\n",
       "    <tr>\n",
       "      <th>60496</th>\n",
       "      <td>Male</td>\n",
       "      <td>8333</td>\n",
       "      <td>1915</td>\n",
       "      <td>2015</td>\n",
       "      <td>0.0</td>\n",
       "      <td>0.0</td>\n",
       "      <td>0.0</td>\n",
       "      <td>0</td>\n",
       "      <td>NaN</td>\n",
       "      <td>Y</td>\n",
       "      <td>...</td>\n",
       "      <td>NaN</td>\n",
       "      <td>NaN</td>\n",
       "      <td>N</td>\n",
       "      <td>Web-browser</td>\n",
       "      <td>G</td>\n",
       "      <td>S122</td>\n",
       "      <td>0</td>\n",
       "      <td>0</td>\n",
       "      <td>A</td>\n",
       "      <td>100</td>\n",
       "    </tr>\n",
       "    <tr>\n",
       "      <th>60498</th>\n",
       "      <td>Male</td>\n",
       "      <td>0</td>\n",
       "      <td>1915</td>\n",
       "      <td>2015</td>\n",
       "      <td>0.0</td>\n",
       "      <td>0.0</td>\n",
       "      <td>0.0</td>\n",
       "      <td>0</td>\n",
       "      <td>NaN</td>\n",
       "      <td>Y</td>\n",
       "      <td>...</td>\n",
       "      <td>NaN</td>\n",
       "      <td>NaN</td>\n",
       "      <td>N</td>\n",
       "      <td>Web-browser</td>\n",
       "      <td>G</td>\n",
       "      <td>S122</td>\n",
       "      <td>0</td>\n",
       "      <td>0</td>\n",
       "      <td>O</td>\n",
       "      <td>100</td>\n",
       "    </tr>\n",
       "    <tr>\n",
       "      <th>62623</th>\n",
       "      <td>Male</td>\n",
       "      <td>41667</td>\n",
       "      <td>1929</td>\n",
       "      <td>2015</td>\n",
       "      <td>0.0</td>\n",
       "      <td>0.0</td>\n",
       "      <td>0.0</td>\n",
       "      <td>0</td>\n",
       "      <td>NaN</td>\n",
       "      <td>Y</td>\n",
       "      <td>...</td>\n",
       "      <td>NaN</td>\n",
       "      <td>NaN</td>\n",
       "      <td>N</td>\n",
       "      <td>Web-browser</td>\n",
       "      <td>G</td>\n",
       "      <td>S122</td>\n",
       "      <td>5</td>\n",
       "      <td>0</td>\n",
       "      <td>M</td>\n",
       "      <td>86</td>\n",
       "    </tr>\n",
       "    <tr>\n",
       "      <th>64278</th>\n",
       "      <td>Male</td>\n",
       "      <td>0</td>\n",
       "      <td>1915</td>\n",
       "      <td>2015</td>\n",
       "      <td>0.0</td>\n",
       "      <td>0.0</td>\n",
       "      <td>0.0</td>\n",
       "      <td>0</td>\n",
       "      <td>NaN</td>\n",
       "      <td>Y</td>\n",
       "      <td>...</td>\n",
       "      <td>NaN</td>\n",
       "      <td>NaN</td>\n",
       "      <td>N</td>\n",
       "      <td>Web-browser</td>\n",
       "      <td>G</td>\n",
       "      <td>S122</td>\n",
       "      <td>0</td>\n",
       "      <td>0</td>\n",
       "      <td>B</td>\n",
       "      <td>100</td>\n",
       "    </tr>\n",
       "    <tr>\n",
       "      <th>70130</th>\n",
       "      <td>Female</td>\n",
       "      <td>24000</td>\n",
       "      <td>1915</td>\n",
       "      <td>2015</td>\n",
       "      <td>100000.0</td>\n",
       "      <td>0.0</td>\n",
       "      <td>8.0</td>\n",
       "      <td>0</td>\n",
       "      <td>NaN</td>\n",
       "      <td>N</td>\n",
       "      <td>...</td>\n",
       "      <td>NaN</td>\n",
       "      <td>NaN</td>\n",
       "      <td>N</td>\n",
       "      <td>Web-browser</td>\n",
       "      <td>G</td>\n",
       "      <td>S122</td>\n",
       "      <td>7</td>\n",
       "      <td>0</td>\n",
       "      <td>O</td>\n",
       "      <td>100</td>\n",
       "    </tr>\n",
       "    <tr>\n",
       "      <th>74092</th>\n",
       "      <td>Male</td>\n",
       "      <td>0</td>\n",
       "      <td>1915</td>\n",
       "      <td>2015</td>\n",
       "      <td>0.0</td>\n",
       "      <td>0.0</td>\n",
       "      <td>0.0</td>\n",
       "      <td>0</td>\n",
       "      <td>NaN</td>\n",
       "      <td>Y</td>\n",
       "      <td>...</td>\n",
       "      <td>NaN</td>\n",
       "      <td>NaN</td>\n",
       "      <td>N</td>\n",
       "      <td>Web-browser</td>\n",
       "      <td>G</td>\n",
       "      <td>S122</td>\n",
       "      <td>0</td>\n",
       "      <td>0</td>\n",
       "      <td>O</td>\n",
       "      <td>100</td>\n",
       "    </tr>\n",
       "    <tr>\n",
       "      <th>74093</th>\n",
       "      <td>Male</td>\n",
       "      <td>0</td>\n",
       "      <td>1915</td>\n",
       "      <td>2015</td>\n",
       "      <td>0.0</td>\n",
       "      <td>0.0</td>\n",
       "      <td>0.0</td>\n",
       "      <td>0</td>\n",
       "      <td>NaN</td>\n",
       "      <td>Y</td>\n",
       "      <td>...</td>\n",
       "      <td>NaN</td>\n",
       "      <td>NaN</td>\n",
       "      <td>N</td>\n",
       "      <td>Web-browser</td>\n",
       "      <td>G</td>\n",
       "      <td>S122</td>\n",
       "      <td>0</td>\n",
       "      <td>0</td>\n",
       "      <td>D</td>\n",
       "      <td>100</td>\n",
       "    </tr>\n",
       "    <tr>\n",
       "      <th>74094</th>\n",
       "      <td>Male</td>\n",
       "      <td>0</td>\n",
       "      <td>1915</td>\n",
       "      <td>2015</td>\n",
       "      <td>0.0</td>\n",
       "      <td>0.0</td>\n",
       "      <td>0.0</td>\n",
       "      <td>0</td>\n",
       "      <td>NaN</td>\n",
       "      <td>Y</td>\n",
       "      <td>...</td>\n",
       "      <td>NaN</td>\n",
       "      <td>NaN</td>\n",
       "      <td>N</td>\n",
       "      <td>Web-browser</td>\n",
       "      <td>G</td>\n",
       "      <td>S122</td>\n",
       "      <td>0</td>\n",
       "      <td>0</td>\n",
       "      <td>D</td>\n",
       "      <td>100</td>\n",
       "    </tr>\n",
       "    <tr>\n",
       "      <th>74095</th>\n",
       "      <td>Male</td>\n",
       "      <td>0</td>\n",
       "      <td>1915</td>\n",
       "      <td>2015</td>\n",
       "      <td>0.0</td>\n",
       "      <td>0.0</td>\n",
       "      <td>0.0</td>\n",
       "      <td>0</td>\n",
       "      <td>NaN</td>\n",
       "      <td>Y</td>\n",
       "      <td>...</td>\n",
       "      <td>NaN</td>\n",
       "      <td>NaN</td>\n",
       "      <td>N</td>\n",
       "      <td>Web-browser</td>\n",
       "      <td>G</td>\n",
       "      <td>S122</td>\n",
       "      <td>0</td>\n",
       "      <td>0</td>\n",
       "      <td>H</td>\n",
       "      <td>100</td>\n",
       "    </tr>\n",
       "    <tr>\n",
       "      <th>74096</th>\n",
       "      <td>Male</td>\n",
       "      <td>0</td>\n",
       "      <td>1915</td>\n",
       "      <td>2015</td>\n",
       "      <td>0.0</td>\n",
       "      <td>0.0</td>\n",
       "      <td>0.0</td>\n",
       "      <td>0</td>\n",
       "      <td>NaN</td>\n",
       "      <td>Y</td>\n",
       "      <td>...</td>\n",
       "      <td>NaN</td>\n",
       "      <td>NaN</td>\n",
       "      <td>N</td>\n",
       "      <td>Web-browser</td>\n",
       "      <td>G</td>\n",
       "      <td>S122</td>\n",
       "      <td>0</td>\n",
       "      <td>0</td>\n",
       "      <td>M</td>\n",
       "      <td>100</td>\n",
       "    </tr>\n",
       "    <tr>\n",
       "      <th>74097</th>\n",
       "      <td>Male</td>\n",
       "      <td>0</td>\n",
       "      <td>1915</td>\n",
       "      <td>2015</td>\n",
       "      <td>0.0</td>\n",
       "      <td>0.0</td>\n",
       "      <td>0.0</td>\n",
       "      <td>0</td>\n",
       "      <td>NaN</td>\n",
       "      <td>Y</td>\n",
       "      <td>...</td>\n",
       "      <td>NaN</td>\n",
       "      <td>NaN</td>\n",
       "      <td>N</td>\n",
       "      <td>Web-browser</td>\n",
       "      <td>G</td>\n",
       "      <td>S122</td>\n",
       "      <td>0</td>\n",
       "      <td>0</td>\n",
       "      <td>B</td>\n",
       "      <td>100</td>\n",
       "    </tr>\n",
       "    <tr>\n",
       "      <th>74099</th>\n",
       "      <td>Male</td>\n",
       "      <td>0</td>\n",
       "      <td>1915</td>\n",
       "      <td>2015</td>\n",
       "      <td>0.0</td>\n",
       "      <td>0.0</td>\n",
       "      <td>0.0</td>\n",
       "      <td>0</td>\n",
       "      <td>NaN</td>\n",
       "      <td>Y</td>\n",
       "      <td>...</td>\n",
       "      <td>NaN</td>\n",
       "      <td>NaN</td>\n",
       "      <td>N</td>\n",
       "      <td>Web-browser</td>\n",
       "      <td>G</td>\n",
       "      <td>S122</td>\n",
       "      <td>0</td>\n",
       "      <td>0</td>\n",
       "      <td>O</td>\n",
       "      <td>100</td>\n",
       "    </tr>\n",
       "    <tr>\n",
       "      <th>74101</th>\n",
       "      <td>Male</td>\n",
       "      <td>0</td>\n",
       "      <td>1915</td>\n",
       "      <td>2015</td>\n",
       "      <td>0.0</td>\n",
       "      <td>0.0</td>\n",
       "      <td>0.0</td>\n",
       "      <td>0</td>\n",
       "      <td>NaN</td>\n",
       "      <td>Y</td>\n",
       "      <td>...</td>\n",
       "      <td>NaN</td>\n",
       "      <td>NaN</td>\n",
       "      <td>N</td>\n",
       "      <td>Web-browser</td>\n",
       "      <td>G</td>\n",
       "      <td>S122</td>\n",
       "      <td>0</td>\n",
       "      <td>0</td>\n",
       "      <td>M</td>\n",
       "      <td>100</td>\n",
       "    </tr>\n",
       "    <tr>\n",
       "      <th>74102</th>\n",
       "      <td>Male</td>\n",
       "      <td>0</td>\n",
       "      <td>1915</td>\n",
       "      <td>2015</td>\n",
       "      <td>0.0</td>\n",
       "      <td>0.0</td>\n",
       "      <td>0.0</td>\n",
       "      <td>0</td>\n",
       "      <td>NaN</td>\n",
       "      <td>Y</td>\n",
       "      <td>...</td>\n",
       "      <td>NaN</td>\n",
       "      <td>NaN</td>\n",
       "      <td>N</td>\n",
       "      <td>Web-browser</td>\n",
       "      <td>G</td>\n",
       "      <td>S122</td>\n",
       "      <td>0</td>\n",
       "      <td>0</td>\n",
       "      <td>D</td>\n",
       "      <td>100</td>\n",
       "    </tr>\n",
       "    <tr>\n",
       "      <th>74103</th>\n",
       "      <td>Male</td>\n",
       "      <td>0</td>\n",
       "      <td>1915</td>\n",
       "      <td>2015</td>\n",
       "      <td>0.0</td>\n",
       "      <td>0.0</td>\n",
       "      <td>0.0</td>\n",
       "      <td>0</td>\n",
       "      <td>NaN</td>\n",
       "      <td>Y</td>\n",
       "      <td>...</td>\n",
       "      <td>NaN</td>\n",
       "      <td>NaN</td>\n",
       "      <td>N</td>\n",
       "      <td>Web-browser</td>\n",
       "      <td>G</td>\n",
       "      <td>S122</td>\n",
       "      <td>0</td>\n",
       "      <td>0</td>\n",
       "      <td>O</td>\n",
       "      <td>100</td>\n",
       "    </tr>\n",
       "    <tr>\n",
       "      <th>74104</th>\n",
       "      <td>Male</td>\n",
       "      <td>0</td>\n",
       "      <td>1915</td>\n",
       "      <td>2015</td>\n",
       "      <td>0.0</td>\n",
       "      <td>0.0</td>\n",
       "      <td>0.0</td>\n",
       "      <td>0</td>\n",
       "      <td>NaN</td>\n",
       "      <td>Y</td>\n",
       "      <td>...</td>\n",
       "      <td>NaN</td>\n",
       "      <td>NaN</td>\n",
       "      <td>N</td>\n",
       "      <td>Web-browser</td>\n",
       "      <td>G</td>\n",
       "      <td>S122</td>\n",
       "      <td>0</td>\n",
       "      <td>0</td>\n",
       "      <td>M</td>\n",
       "      <td>100</td>\n",
       "    </tr>\n",
       "  </tbody>\n",
       "</table>\n",
       "<p>18 rows × 25 columns</p>\n",
       "</div>"
      ],
      "text/plain": [
       "       Gender  Monthly_Income   DOB  Lead_Creation_Date  Loan_Amount_Applied  \\\n",
       "60139    Male               0  1915                2015                  0.0   \n",
       "60141    Male               0  1915                2015                  0.0   \n",
       "60496    Male            8333  1915                2015                  0.0   \n",
       "60498    Male               0  1915                2015                  0.0   \n",
       "62623    Male           41667  1929                2015                  0.0   \n",
       "64278    Male               0  1915                2015                  0.0   \n",
       "70130  Female           24000  1915                2015             100000.0   \n",
       "74092    Male               0  1915                2015                  0.0   \n",
       "74093    Male               0  1915                2015                  0.0   \n",
       "74094    Male               0  1915                2015                  0.0   \n",
       "74095    Male               0  1915                2015                  0.0   \n",
       "74096    Male               0  1915                2015                  0.0   \n",
       "74097    Male               0  1915                2015                  0.0   \n",
       "74099    Male               0  1915                2015                  0.0   \n",
       "74101    Male               0  1915                2015                  0.0   \n",
       "74102    Male               0  1915                2015                  0.0   \n",
       "74103    Male               0  1915                2015                  0.0   \n",
       "74104    Male               0  1915                2015                  0.0   \n",
       "\n",
       "       Loan_Tenure_Applied  Existing_EMI Employer_Name Salary_Account  \\\n",
       "60139                  0.0           0.0             0            NaN   \n",
       "60141                  0.0           0.0             0            NaN   \n",
       "60496                  0.0           0.0             0            NaN   \n",
       "60498                  0.0           0.0             0            NaN   \n",
       "62623                  0.0           0.0             0            NaN   \n",
       "64278                  0.0           0.0             0            NaN   \n",
       "70130                  0.0           8.0             0            NaN   \n",
       "74092                  0.0           0.0             0            NaN   \n",
       "74093                  0.0           0.0             0            NaN   \n",
       "74094                  0.0           0.0             0            NaN   \n",
       "74095                  0.0           0.0             0            NaN   \n",
       "74096                  0.0           0.0             0            NaN   \n",
       "74097                  0.0           0.0             0            NaN   \n",
       "74099                  0.0           0.0             0            NaN   \n",
       "74101                  0.0           0.0             0            NaN   \n",
       "74102                  0.0           0.0             0            NaN   \n",
       "74103                  0.0           0.0             0            NaN   \n",
       "74104                  0.0           0.0             0            NaN   \n",
       "\n",
       "      Mobile_Verified  ...  Processing_Fee EMI_Loan_Submitted  Filled_Form  \\\n",
       "60139               Y  ...             NaN                NaN            N   \n",
       "60141               Y  ...             NaN                NaN            N   \n",
       "60496               Y  ...             NaN                NaN            N   \n",
       "60498               Y  ...             NaN                NaN            N   \n",
       "62623               Y  ...             NaN                NaN            N   \n",
       "64278               Y  ...             NaN                NaN            N   \n",
       "70130               N  ...             NaN                NaN            N   \n",
       "74092               Y  ...             NaN                NaN            N   \n",
       "74093               Y  ...             NaN                NaN            N   \n",
       "74094               Y  ...             NaN                NaN            N   \n",
       "74095               Y  ...             NaN                NaN            N   \n",
       "74096               Y  ...             NaN                NaN            N   \n",
       "74097               Y  ...             NaN                NaN            N   \n",
       "74099               Y  ...             NaN                NaN            N   \n",
       "74101               Y  ...             NaN                NaN            N   \n",
       "74102               Y  ...             NaN                NaN            N   \n",
       "74103               Y  ...             NaN                NaN            N   \n",
       "74104               Y  ...             NaN                NaN            N   \n",
       "\n",
       "       Device_Type  Var2  Source  Var4 Disbursed My_City  Age  \n",
       "60139  Web-browser     G    S122     0         0       B  100  \n",
       "60141  Web-browser     G    S122     0         0       H  100  \n",
       "60496  Web-browser     G    S122     0         0       A  100  \n",
       "60498  Web-browser     G    S122     0         0       O  100  \n",
       "62623  Web-browser     G    S122     5         0       M   86  \n",
       "64278  Web-browser     G    S122     0         0       B  100  \n",
       "70130  Web-browser     G    S122     7         0       O  100  \n",
       "74092  Web-browser     G    S122     0         0       O  100  \n",
       "74093  Web-browser     G    S122     0         0       D  100  \n",
       "74094  Web-browser     G    S122     0         0       D  100  \n",
       "74095  Web-browser     G    S122     0         0       H  100  \n",
       "74096  Web-browser     G    S122     0         0       M  100  \n",
       "74097  Web-browser     G    S122     0         0       B  100  \n",
       "74099  Web-browser     G    S122     0         0       O  100  \n",
       "74101  Web-browser     G    S122     0         0       M  100  \n",
       "74102  Web-browser     G    S122     0         0       D  100  \n",
       "74103  Web-browser     G    S122     0         0       O  100  \n",
       "74104  Web-browser     G    S122     0         0       M  100  \n",
       "\n",
       "[18 rows x 25 columns]"
      ]
     },
     "execution_count": 35,
     "metadata": {},
     "output_type": "execute_result"
    }
   ],
   "source": [
    "data[data['DOB'] < 1930]"
   ]
  },
  {
   "cell_type": "code",
   "execution_count": 36,
   "metadata": {},
   "outputs": [
    {
     "data": {
      "text/plain": [
       "Text(0.5, 1, 'Klienci powyżej 85 lat')"
      ]
     },
     "execution_count": 36,
     "metadata": {},
     "output_type": "execute_result"
    },
    {
     "data": {
      "image/png": "[encoded data removed]",
      "text/plain": [
       "<Figure size 432x288 with 1 Axes>"
      ]
     },
     "metadata": {},
     "output_type": "display_data"
    }
   ],
   "source": [
    "sns.countplot(x='Disbursed', hue='DOB', data=data[data['DOB'] < 1930])\n",
    "plt.title('Klienci powyżej 85 lat', y=1, fontdict={'fontsize': 15})"
   ]
  },
  {
   "cell_type": "code",
   "execution_count": 37,
   "metadata": {},
   "outputs": [],
   "source": [
    "# Po uprzednim sprawdzeniu ilości \n",
    "# i upewnieniu się że zaden z tych klientów nie dostał pożyczki \n",
    "# usuwam z bazy klientów powyżej 85 lat (tacy klienci z założenia nie dostaną kredytu) - 18. rekordów"
   ]
  },
  {
   "cell_type": "code",
   "execution_count": 38,
   "metadata": {},
   "outputs": [],
   "source": [
    "data = data[data.DOB>1930]"
   ]
  },
  {
   "cell_type": "code",
   "execution_count": 39,
   "metadata": {},
   "outputs": [
    {
     "name": "stdout",
     "output_type": "stream",
     "text": [
      "(87002, 23)\n"
     ]
    }
   ],
   "source": [
    "# Usuwam juz niepotrzebne zmienne 'DOB' i 'Lead_Creation_Date'\n",
    "del data['DOB']\n",
    "del data['Lead_Creation_Date']\n",
    "print(data.shape)"
   ]
  },
  {
   "cell_type": "code",
   "execution_count": 40,
   "metadata": {},
   "outputs": [
    {
     "data": {
      "text/plain": [
       "Text(0.5, 1.0, 'Age vs. Disbursed - Rozkład')"
      ]
     },
     "execution_count": 40,
     "metadata": {},
     "output_type": "execute_result"
    },
    {
     "data": {
      "image/png": "[encoded data removed]",
      "text/plain": [
       "<Figure size 432x288 with 1 Axes>"
      ]
     },
     "metadata": {},
     "output_type": "display_data"
    }
   ],
   "source": [
    "sns.distplot(data['Age'][data['Disbursed'] == 0], color='r')\n",
    "sns.distplot(data['Age'][data['Disbursed'] == 1], color='g')\n",
    "plt.title('Age vs. Disbursed - Rozkład', fontdict={'fontsize': 15})"
   ]
  },
  {
   "cell_type": "code",
   "execution_count": 41,
   "metadata": {},
   "outputs": [],
   "source": [
    "num_variables.append('Age') #Dodaję zmienną Age do kontenera zmiennych num."
   ]
  },
  {
   "cell_type": "markdown",
   "metadata": {},
   "source": [
    "###  - Zmienna 'Employer_Name'"
   ]
  },
  {
   "cell_type": "code",
   "execution_count": 42,
   "metadata": {},
   "outputs": [
    {
     "data": {
      "text/plain": [
       "71"
      ]
     },
     "execution_count": 42,
     "metadata": {},
     "output_type": "execute_result"
    }
   ],
   "source": [
    "#sprawdzam ilość braków danych\n",
    "data['Employer_Name'].isna().sum()"
   ]
  },
  {
   "cell_type": "code",
   "execution_count": 43,
   "metadata": {},
   "outputs": [
    {
     "data": {
      "text/plain": [
       "0                                               4896\n",
       "TATA CONSULTANCY SERVICES LTD (TCS)              550\n",
       "COGNIZANT TECHNOLOGY SOLUTIONS INDIA PVT LTD     404\n",
       "ACCENTURE SERVICES PVT LTD                       324\n",
       "GOOGLE                                           301\n",
       "                                                ... \n",
       "WILLOWOOD CROP SCIENCES PVT LTD                    1\n",
       "NETERWALA AIBARA INTERRIOR ARCHITECT               1\n",
       "DHOOT COMPACK LTD                                  1\n",
       "POLYGEL INDUSTRIES PVT LTD                         1\n",
       "MEROFORM INDIA PVT LTD                             1\n",
       "Name: Employer_Name, Length: 43567, dtype: int64"
      ]
     },
     "execution_count": 43,
     "metadata": {},
     "output_type": "execute_result"
    }
   ],
   "source": [
    "data.Employer_Name.value_counts()"
   ]
  },
  {
   "cell_type": "code",
   "execution_count": 44,
   "metadata": {},
   "outputs": [],
   "source": [
    "# Mamy 71 \"pustych wpisów\" i 4896 wpisów z 0 - Potraktuje tych kliejentów jako 1 osobowe firmy\n",
    "# (sami się zatrudniają)\n",
    "# Zapiszemy wynik w 'My_Employees' - W tem sposób dostaniemy \n",
    "# liczność danej firmy w naszej bazie a potem zeskalujemy w ten sposób otrzymane dane logarytmem"
   ]
  },
  {
   "cell_type": "code",
   "execution_count": 45,
   "metadata": {},
   "outputs": [],
   "source": [
    "dict_firmy = data.Employer_Name.value_counts().to_dict()"
   ]
  },
  {
   "cell_type": "code",
   "execution_count": 46,
   "metadata": {},
   "outputs": [],
   "source": [
    "dict_firmy['0'] = 1 #tam, gdzie nie ma pracodawcy, podmieniam wartość na 1 (firma 1-osobowa)"
   ]
  },
  {
   "cell_type": "code",
   "execution_count": 47,
   "metadata": {},
   "outputs": [],
   "source": [
    "data['My_Employees'] = data.Employer_Name.map(dict_firmy).fillna(1).astype(int)"
   ]
  },
  {
   "cell_type": "code",
   "execution_count": 48,
   "metadata": {},
   "outputs": [],
   "source": [
    "data['My_Employees'] = np.log(data['My_Employees'])"
   ]
  },
  {
   "cell_type": "code",
   "execution_count": 49,
   "metadata": {},
   "outputs": [
    {
     "data": {
      "text/plain": [
       "0"
      ]
     },
     "execution_count": 49,
     "metadata": {},
     "output_type": "execute_result"
    }
   ],
   "source": [
    "data['My_Employees'].isna().sum()"
   ]
  },
  {
   "cell_type": "code",
   "execution_count": 50,
   "metadata": {},
   "outputs": [],
   "source": [
    "# Usuwam już niepotrzebną zmieną 'Employer_Name' w jej miejsce mamy nową zmienną 'My_Employees'\n",
    "del data['Employer_Name'] "
   ]
  },
  {
   "cell_type": "code",
   "execution_count": 51,
   "metadata": {},
   "outputs": [
    {
     "data": {
      "text/plain": [
       "Gender                       0\n",
       "Monthly_Income               0\n",
       "Loan_Amount_Applied         71\n",
       "Loan_Tenure_Applied         71\n",
       "Existing_EMI                71\n",
       "Salary_Account           11746\n",
       "Mobile_Verified              0\n",
       "Var5                         0\n",
       "Var1                         0\n",
       "Loan_Amount_Submitted    34595\n",
       "Loan_Tenure_Submitted    34595\n",
       "Interest_Rate            59276\n",
       "Processing_Fee           59582\n",
       "EMI_Loan_Submitted       59276\n",
       "Filled_Form                  0\n",
       "Device_Type                  0\n",
       "Var2                         0\n",
       "Source                       0\n",
       "Var4                         0\n",
       "Disbursed                    0\n",
       "My_City                      0\n",
       "Age                          0\n",
       "My_Employees                 0\n",
       "dtype: int64"
      ]
     },
     "execution_count": 51,
     "metadata": {},
     "output_type": "execute_result"
    }
   ],
   "source": [
    "data.isna().sum()"
   ]
  },
  {
   "cell_type": "code",
   "execution_count": 52,
   "metadata": {},
   "outputs": [],
   "source": [
    "num_variables.append('My_Employees')"
   ]
  },
  {
   "cell_type": "markdown",
   "metadata": {},
   "source": [
    "### - Zmienna 'Salary_Account'"
   ]
  },
  {
   "cell_type": "code",
   "execution_count": 53,
   "metadata": {},
   "outputs": [
    {
     "data": {
      "text/plain": [
       "11746"
      ]
     },
     "execution_count": 53,
     "metadata": {},
     "output_type": "execute_result"
    }
   ],
   "source": [
    "data['Salary_Account'].isna().sum() #sprawdzam ilość braków danych"
   ]
  },
  {
   "cell_type": "code",
   "execution_count": 54,
   "metadata": {
    "scrolled": true
   },
   "outputs": [
    {
     "data": {
      "text/plain": [
       "HDFC Bank                                          17695\n",
       "ICICI Bank                                         13636\n",
       "State Bank of India                                11843\n",
       "Axis Bank                                           8783\n",
       "Citibank                                            2376\n",
       "Kotak Bank                                          2067\n",
       "IDBI Bank                                           1550\n",
       "Punjab National Bank                                1201\n",
       "Bank of India                                       1170\n",
       "Bank of Baroda                                      1126\n",
       "Standard Chartered Bank                              995\n",
       "Canara Bank                                          990\n",
       "Union Bank of India                                  951\n",
       "Yes Bank                                             779\n",
       "ING Vysya                                            678\n",
       "Corporation bank                                     649\n",
       "Indian Overseas Bank                                 612\n",
       "State Bank of Hyderabad                              597\n",
       "Indian Bank                                          555\n",
       "Oriental Bank of Commerce                            524\n",
       "IndusInd Bank                                        503\n",
       "Andhra Bank                                          485\n",
       "Central Bank of India                                445\n",
       "Syndicate Bank                                       415\n",
       "Bank of Maharasthra                                  406\n",
       "State Bank of Bikaner & Jaipur                       331\n",
       "HSBC                                                 328\n",
       "Karur Vysya Bank                                     326\n",
       "State Bank of Mysore                                 255\n",
       "Federal Bank                                         253\n",
       "Vijaya Bank                                          252\n",
       "Allahabad Bank                                       238\n",
       "UCO Bank                                             237\n",
       "State Bank of Travancore                             227\n",
       "Karnataka Bank                                       200\n",
       "Saraswat Bank                                        195\n",
       "United Bank of India                                 183\n",
       "Dena Bank                                            182\n",
       "State Bank of Patiala                                177\n",
       "South Indian Bank                                    160\n",
       "Deutsche Bank                                        125\n",
       "Abhyuday Co-op Bank Ltd                              108\n",
       "The Ratnakar Bank Ltd                                 83\n",
       "Tamil Nadu Mercantile Bank                            71\n",
       "Punjab & Sind bank                                    66\n",
       "J&K Bank                                              59\n",
       "Lakshmi Vilas bank                                    50\n",
       "Dhanalakshmi Bank Ltd                                 42\n",
       "State Bank of Indore                                  18\n",
       "Catholic Syrian Bank                                  14\n",
       "India Bulls                                           11\n",
       "B N P Paribas                                          8\n",
       "GIC Housing Finance Ltd                                8\n",
       "Firstrand Bank Limited                                 7\n",
       "Bank of Rajasthan                                      5\n",
       "Kerala Gramin Bank                                     4\n",
       "Industrial And Commercial Bank Of China Limited        2\n",
       "Name: Salary_Account, dtype: int64"
      ]
     },
     "execution_count": 54,
     "metadata": {},
     "output_type": "execute_result"
    }
   ],
   "source": [
    "data['Salary_Account'].value_counts()"
   ]
  },
  {
   "cell_type": "code",
   "execution_count": 55,
   "metadata": {},
   "outputs": [],
   "source": [
    "#Zostawiam 10 najczęściej występujących Banków reszcie przypisuje 'Other Bank')\n",
    "bank_counts = data['Salary_Account'].value_counts()\n",
    "big_banks = list(bank_counts.index[:10]) "
   ]
  },
  {
   "cell_type": "code",
   "execution_count": 56,
   "metadata": {},
   "outputs": [],
   "source": [
    "def convert_bank(bank):\n",
    "    if bank['Salary_Account'] in big_banks:\n",
    "        return bank['Salary_Account']\n",
    "    else:\n",
    "        return 'Other Bank'\n",
    "        \n",
    "data['Salary_Account'] = data.apply(convert_bank, axis=1)"
   ]
  },
  {
   "cell_type": "code",
   "execution_count": 57,
   "metadata": {},
   "outputs": [
    {
     "data": {
      "text/plain": [
       "Other Bank              25555\n",
       "HDFC Bank               17695\n",
       "ICICI Bank              13636\n",
       "State Bank of India     11843\n",
       "Axis Bank                8783\n",
       "Citibank                 2376\n",
       "Kotak Bank               2067\n",
       "IDBI Bank                1550\n",
       "Punjab National Bank     1201\n",
       "Bank of India            1170\n",
       "Bank of Baroda           1126\n",
       "Name: Salary_Account, dtype: int64"
      ]
     },
     "execution_count": 57,
     "metadata": {},
     "output_type": "execute_result"
    }
   ],
   "source": [
    "data['Salary_Account'].value_counts()"
   ]
  },
  {
   "cell_type": "code",
   "execution_count": 58,
   "metadata": {},
   "outputs": [
    {
     "data": {
      "text/plain": [
       "0"
      ]
     },
     "execution_count": 58,
     "metadata": {},
     "output_type": "execute_result"
    }
   ],
   "source": [
    "data['Salary_Account'].isna().sum()"
   ]
  },
  {
   "cell_type": "code",
   "execution_count": 59,
   "metadata": {},
   "outputs": [],
   "source": [
    "cat_variables.append('Salary_Account')"
   ]
  },
  {
   "cell_type": "markdown",
   "metadata": {},
   "source": [
    "### - Zmienna 'Mobile_Verified'"
   ]
  },
  {
   "cell_type": "code",
   "execution_count": 60,
   "metadata": {},
   "outputs": [
    {
     "data": {
      "text/plain": [
       "0"
      ]
     },
     "execution_count": 60,
     "metadata": {},
     "output_type": "execute_result"
    }
   ],
   "source": [
    "data['Mobile_Verified'].isna().sum() #sprawdzam ilość braków danych"
   ]
  },
  {
   "cell_type": "code",
   "execution_count": 61,
   "metadata": {},
   "outputs": [
    {
     "data": {
      "text/plain": [
       "Y    56464\n",
       "N    30538\n",
       "Name: Mobile_Verified, dtype: int64"
      ]
     },
     "execution_count": 61,
     "metadata": {},
     "output_type": "execute_result"
    }
   ],
   "source": [
    "\n",
    "data['Mobile_Verified'].value_counts()"
   ]
  },
  {
   "cell_type": "code",
   "execution_count": 62,
   "metadata": {},
   "outputs": [
    {
     "data": {
      "text/plain": [
       "Mobile_Verified\n",
       "N    0.007433\n",
       "Y    0.018525\n",
       "Name: Disbursed, dtype: float64"
      ]
     },
     "execution_count": 62,
     "metadata": {},
     "output_type": "execute_result"
    }
   ],
   "source": [
    "x2 = data.groupby(['Mobile_Verified'])['Disbursed'].mean()\n",
    "x2"
   ]
  },
  {
   "cell_type": "code",
   "execution_count": 63,
   "metadata": {},
   "outputs": [],
   "source": [
    "cat_variables.append('Mobile_Verified')"
   ]
  },
  {
   "cell_type": "markdown",
   "metadata": {},
   "source": [
    "### - Zmienna 'Device_Type'"
   ]
  },
  {
   "cell_type": "code",
   "execution_count": 64,
   "metadata": {},
   "outputs": [
    {
     "data": {
      "text/plain": [
       "0"
      ]
     },
     "execution_count": 64,
     "metadata": {},
     "output_type": "execute_result"
    }
   ],
   "source": [
    "data['Device_Type'].isna().sum() #sprawdzam ilość braków danych"
   ]
  },
  {
   "cell_type": "code",
   "execution_count": 65,
   "metadata": {},
   "outputs": [
    {
     "data": {
      "text/plain": [
       "Web-browser    64298\n",
       "Mobile         22704\n",
       "Name: Device_Type, dtype: int64"
      ]
     },
     "execution_count": 65,
     "metadata": {},
     "output_type": "execute_result"
    }
   ],
   "source": [
    "data['Device_Type'].value_counts()"
   ]
  },
  {
   "cell_type": "code",
   "execution_count": 66,
   "metadata": {},
   "outputs": [
    {
     "data": {
      "text/plain": [
       "Device_Type\n",
       "Mobile         0.011628\n",
       "Web-browser    0.015693\n",
       "Name: Disbursed, dtype: float64"
      ]
     },
     "execution_count": 66,
     "metadata": {},
     "output_type": "execute_result"
    }
   ],
   "source": [
    "x2 = data.groupby(['Device_Type'])['Disbursed'].mean()\n",
    "x2"
   ]
  },
  {
   "cell_type": "code",
   "execution_count": 67,
   "metadata": {},
   "outputs": [
    {
     "data": {
      "image/png": "[encoded data removed]",
      "text/plain": [
       "<Figure size 432x288 with 1 Axes>"
      ]
     },
     "metadata": {},
     "output_type": "display_data"
    }
   ],
   "source": [
    "sns.countplot(x='Disbursed', hue='Device_Type', data=data)\n",
    "plt.title('Device_Type vs. Disbursed - Liczebność klas', x = 0.1, y=1, fontdict={'fontsize': 15})\n",
    "plt.legend()\n",
    "plt.yscale('log')"
   ]
  },
  {
   "cell_type": "code",
   "execution_count": 68,
   "metadata": {},
   "outputs": [],
   "source": [
    "cat_variables.append('Device_Type')"
   ]
  },
  {
   "cell_type": "markdown",
   "metadata": {},
   "source": [
    "### - Zmienna 'Source'"
   ]
  },
  {
   "cell_type": "code",
   "execution_count": 69,
   "metadata": {},
   "outputs": [
    {
     "data": {
      "text/plain": [
       "0"
      ]
     },
     "execution_count": 69,
     "metadata": {},
     "output_type": "execute_result"
    }
   ],
   "source": [
    "data['Source'].isna().sum() #sprawdzam ilość braków danych"
   ]
  },
  {
   "cell_type": "code",
   "execution_count": 70,
   "metadata": {
    "scrolled": true
   },
   "outputs": [
    {
     "data": {
      "text/plain": [
       "S122    38549\n",
       "S133    29885\n",
       "S159     5599\n",
       "S143     4332\n",
       "S127     1931\n",
       "S137     1724\n",
       "S134     1301\n",
       "S161      769\n",
       "S151      720\n",
       "S157      650\n",
       "S153      494\n",
       "S156      308\n",
       "S144      299\n",
       "S158      208\n",
       "S123       73\n",
       "S141       57\n",
       "S162       36\n",
       "S124       24\n",
       "S160       11\n",
       "S150       10\n",
       "S155        4\n",
       "S129        3\n",
       "S136        3\n",
       "S138        3\n",
       "S139        3\n",
       "S135        2\n",
       "S154        1\n",
       "S130        1\n",
       "S125        1\n",
       "S140        1\n",
       "Name: Source, dtype: int64"
      ]
     },
     "execution_count": 70,
     "metadata": {},
     "output_type": "execute_result"
    }
   ],
   "source": [
    "data['Source'].value_counts()"
   ]
  },
  {
   "cell_type": "code",
   "execution_count": 71,
   "metadata": {},
   "outputs": [],
   "source": [
    "#Podobnie jak przy zmiennej 'City', wybieram Source o liczności >=1000 dla pozostałych przypisuje 'S000'\n",
    "source_counts = data['Source'].value_counts()\n",
    "big_source= list(source_counts.index[:7]) "
   ]
  },
  {
   "cell_type": "code",
   "execution_count": 72,
   "metadata": {},
   "outputs": [
    {
     "data": {
      "text/plain": [
       "['S122', 'S133', 'S159', 'S143', 'S127', 'S137', 'S134']"
      ]
     },
     "execution_count": 72,
     "metadata": {},
     "output_type": "execute_result"
    }
   ],
   "source": [
    "big_source"
   ]
  },
  {
   "cell_type": "code",
   "execution_count": 73,
   "metadata": {},
   "outputs": [],
   "source": [
    "def convert_source(source):\n",
    "    if source['Source'] in big_source:\n",
    "        return source['Source']\n",
    "    else:\n",
    "        return 'S000'\n",
    "        \n",
    "data['Source'] = data.apply(convert_source, axis=1)"
   ]
  },
  {
   "cell_type": "code",
   "execution_count": 74,
   "metadata": {},
   "outputs": [
    {
     "data": {
      "text/plain": [
       "S122    38549\n",
       "S133    29885\n",
       "S159     5599\n",
       "S143     4332\n",
       "S000     3681\n",
       "S127     1931\n",
       "S137     1724\n",
       "S134     1301\n",
       "Name: Source, dtype: int64"
      ]
     },
     "execution_count": 74,
     "metadata": {},
     "output_type": "execute_result"
    }
   ],
   "source": [
    "data['Source'].value_counts()"
   ]
  },
  {
   "cell_type": "code",
   "execution_count": 75,
   "metadata": {},
   "outputs": [
    {
     "data": {
      "image/png": "[encoded data removed]",
      "text/plain": [
       "<Figure size 432x288 with 1 Axes>"
      ]
     },
     "metadata": {},
     "output_type": "display_data"
    }
   ],
   "source": [
    "sns.countplot(x='Disbursed', hue='Source', data=data)\n",
    "plt.title('Source vs. Disbursed - Liczebność klas', x = 0.1, y=1, fontdict={'fontsize': 15})\n",
    "plt.legend()\n",
    "plt.yscale('log')"
   ]
  },
  {
   "cell_type": "code",
   "execution_count": 76,
   "metadata": {},
   "outputs": [],
   "source": [
    "cat_variables.append('Source')"
   ]
  },
  {
   "cell_type": "markdown",
   "metadata": {},
   "source": [
    "### - Zmienna 'Var5'"
   ]
  },
  {
   "cell_type": "code",
   "execution_count": 77,
   "metadata": {},
   "outputs": [
    {
     "data": {
      "text/plain": [
       "0"
      ]
     },
     "execution_count": 77,
     "metadata": {},
     "output_type": "execute_result"
    }
   ],
   "source": [
    "data['Var5'].isna().sum() #sprawdzam ilość braków danych"
   ]
  },
  {
   "cell_type": "code",
   "execution_count": 78,
   "metadata": {},
   "outputs": [
    {
     "data": {
      "text/plain": [
       "0     29069\n",
       "1     12236\n",
       "3      6759\n",
       "11     5204\n",
       "2      4485\n",
       "14     3662\n",
       "15     3509\n",
       "12     2989\n",
       "13     2622\n",
       "8      2515\n",
       "10     2427\n",
       "9      2281\n",
       "16     2097\n",
       "4      1815\n",
       "17     1691\n",
       "7      1489\n",
       "6       983\n",
       "5       975\n",
       "18      194\n",
       "Name: Var5, dtype: int64"
      ]
     },
     "execution_count": 78,
     "metadata": {},
     "output_type": "execute_result"
    }
   ],
   "source": [
    "data['Var5'].value_counts()"
   ]
  },
  {
   "cell_type": "code",
   "execution_count": 79,
   "metadata": {},
   "outputs": [
    {
     "name": "stdout",
     "output_type": "stream",
     "text": [
      "<class 'pandas.core.frame.DataFrame'>\n",
      "Int64Index: 87002 entries, 0 to 87019\n",
      "Data columns (total 23 columns):\n",
      " #   Column                 Non-Null Count  Dtype  \n",
      "---  ------                 --------------  -----  \n",
      " 0   Gender                 87002 non-null  object \n",
      " 1   Monthly_Income         87002 non-null  int64  \n",
      " 2   Loan_Amount_Applied    86931 non-null  float64\n",
      " 3   Loan_Tenure_Applied    86931 non-null  float64\n",
      " 4   Existing_EMI           86931 non-null  float64\n",
      " 5   Salary_Account         87002 non-null  object \n",
      " 6   Mobile_Verified        87002 non-null  object \n",
      " 7   Var5                   87002 non-null  int64  \n",
      " 8   Var1                   87002 non-null  object \n",
      " 9   Loan_Amount_Submitted  52407 non-null  float64\n",
      " 10  Loan_Tenure_Submitted  52407 non-null  float64\n",
      " 11  Interest_Rate          27726 non-null  float64\n",
      " 12  Processing_Fee         27420 non-null  float64\n",
      " 13  EMI_Loan_Submitted     27726 non-null  float64\n",
      " 14  Filled_Form            87002 non-null  object \n",
      " 15  Device_Type            87002 non-null  object \n",
      " 16  Var2                   87002 non-null  object \n",
      " 17  Source                 87002 non-null  object \n",
      " 18  Var4                   87002 non-null  int64  \n",
      " 19  Disbursed              87002 non-null  int64  \n",
      " 20  My_City                87002 non-null  object \n",
      " 21  Age                    87002 non-null  int64  \n",
      " 22  My_Employees           87002 non-null  float64\n",
      "dtypes: float64(9), int64(5), object(9)\n",
      "memory usage: 18.4+ MB\n"
     ]
    }
   ],
   "source": [
    "data.info()"
   ]
  },
  {
   "cell_type": "code",
   "execution_count": 80,
   "metadata": {},
   "outputs": [],
   "source": [
    "# zamiana typu - Zmienną będę traktował jako zmienną kategoryczną\n",
    "data[\"Var5\"] = data[\"Var5\"].astype('str',copy=False)"
   ]
  },
  {
   "cell_type": "code",
   "execution_count": 81,
   "metadata": {},
   "outputs": [
    {
     "name": "stdout",
     "output_type": "stream",
     "text": [
      "<class 'pandas.core.frame.DataFrame'>\n",
      "Int64Index: 87002 entries, 0 to 87019\n",
      "Data columns (total 23 columns):\n",
      " #   Column                 Non-Null Count  Dtype  \n",
      "---  ------                 --------------  -----  \n",
      " 0   Gender                 87002 non-null  object \n",
      " 1   Monthly_Income         87002 non-null  int64  \n",
      " 2   Loan_Amount_Applied    86931 non-null  float64\n",
      " 3   Loan_Tenure_Applied    86931 non-null  float64\n",
      " 4   Existing_EMI           86931 non-null  float64\n",
      " 5   Salary_Account         87002 non-null  object \n",
      " 6   Mobile_Verified        87002 non-null  object \n",
      " 7   Var5                   87002 non-null  object \n",
      " 8   Var1                   87002 non-null  object \n",
      " 9   Loan_Amount_Submitted  52407 non-null  float64\n",
      " 10  Loan_Tenure_Submitted  52407 non-null  float64\n",
      " 11  Interest_Rate          27726 non-null  float64\n",
      " 12  Processing_Fee         27420 non-null  float64\n",
      " 13  EMI_Loan_Submitted     27726 non-null  float64\n",
      " 14  Filled_Form            87002 non-null  object \n",
      " 15  Device_Type            87002 non-null  object \n",
      " 16  Var2                   87002 non-null  object \n",
      " 17  Source                 87002 non-null  object \n",
      " 18  Var4                   87002 non-null  int64  \n",
      " 19  Disbursed              87002 non-null  int64  \n",
      " 20  My_City                87002 non-null  object \n",
      " 21  Age                    87002 non-null  int64  \n",
      " 22  My_Employees           87002 non-null  float64\n",
      "dtypes: float64(9), int64(4), object(10)\n",
      "memory usage: 18.4+ MB\n"
     ]
    }
   ],
   "source": [
    "data.info()"
   ]
  },
  {
   "cell_type": "code",
   "execution_count": 82,
   "metadata": {},
   "outputs": [],
   "source": [
    "cat_variables.append('Var5')"
   ]
  },
  {
   "cell_type": "markdown",
   "metadata": {},
   "source": [
    "### - Zmienna 'Var1'"
   ]
  },
  {
   "cell_type": "code",
   "execution_count": 83,
   "metadata": {},
   "outputs": [
    {
     "data": {
      "text/plain": [
       "0"
      ]
     },
     "execution_count": 83,
     "metadata": {},
     "output_type": "execute_result"
    }
   ],
   "source": [
    "data['Var1'].isna().sum() #sprawdzam ilość braków danych"
   ]
  },
  {
   "cell_type": "code",
   "execution_count": 84,
   "metadata": {},
   "outputs": [
    {
     "data": {
      "text/plain": [
       "HBXX    59276\n",
       "HBXC     9010\n",
       "HBXB     4479\n",
       "HAXA     2909\n",
       "HBXA     2123\n",
       "HAXB     2011\n",
       "HBXD     1964\n",
       "HAXC     1536\n",
       "HBXH      970\n",
       "HCXF      722\n",
       "HAYT      508\n",
       "HAVC      384\n",
       "HAXM      268\n",
       "HCXD      237\n",
       "HCYS      217\n",
       "HVYS      186\n",
       "HAZD      109\n",
       "HCXG       78\n",
       "HAXF       15\n",
       "Name: Var1, dtype: int64"
      ]
     },
     "execution_count": 84,
     "metadata": {},
     "output_type": "execute_result"
    }
   ],
   "source": [
    "data['Var1'].value_counts()"
   ]
  },
  {
   "cell_type": "code",
   "execution_count": 85,
   "metadata": {},
   "outputs": [],
   "source": [
    "cat_variables.append('Var1')"
   ]
  },
  {
   "cell_type": "markdown",
   "metadata": {},
   "source": [
    "### - Zmienna 'Filled_Form'"
   ]
  },
  {
   "cell_type": "code",
   "execution_count": 86,
   "metadata": {},
   "outputs": [
    {
     "data": {
      "text/plain": [
       "0"
      ]
     },
     "execution_count": 86,
     "metadata": {},
     "output_type": "execute_result"
    }
   ],
   "source": [
    "data['Filled_Form'].isna().sum() #sprawdzam czy nie ma braków danych"
   ]
  },
  {
   "cell_type": "code",
   "execution_count": 87,
   "metadata": {},
   "outputs": [
    {
     "data": {
      "text/plain": [
       "N    67512\n",
       "Y    19490\n",
       "Name: Filled_Form, dtype: int64"
      ]
     },
     "execution_count": 87,
     "metadata": {},
     "output_type": "execute_result"
    }
   ],
   "source": [
    "data['Filled_Form'].value_counts()"
   ]
  },
  {
   "cell_type": "code",
   "execution_count": 88,
   "metadata": {},
   "outputs": [
    {
     "data": {
      "image/png": "[encoded data removed]",
      "text/plain": [
       "<Figure size 432x288 with 1 Axes>"
      ]
     },
     "metadata": {},
     "output_type": "display_data"
    }
   ],
   "source": [
    "sns.countplot(x='Disbursed', hue='Filled_Form', data=data)\n",
    "plt.title('Filled_Form vs. Disbursed - Liczebność klas', y=1, fontdict={'fontsize': 15})\n",
    "plt.yscale('log')"
   ]
  },
  {
   "cell_type": "code",
   "execution_count": 89,
   "metadata": {},
   "outputs": [],
   "source": [
    "cat_variables.append('Filled_Form')"
   ]
  },
  {
   "cell_type": "markdown",
   "metadata": {},
   "source": [
    "### - Zmienna 'Var2'"
   ]
  },
  {
   "cell_type": "code",
   "execution_count": 90,
   "metadata": {},
   "outputs": [
    {
     "data": {
      "text/plain": [
       "0"
      ]
     },
     "execution_count": 90,
     "metadata": {},
     "output_type": "execute_result"
    }
   ],
   "source": [
    "data['Var2'].isna().sum() #sprawdzam ilość braków danych"
   ]
  },
  {
   "cell_type": "code",
   "execution_count": 91,
   "metadata": {},
   "outputs": [
    {
     "data": {
      "text/plain": [
       "B    37280\n",
       "G    33014\n",
       "C    14210\n",
       "E     1315\n",
       "D      634\n",
       "F      544\n",
       "A        5\n",
       "Name: Var2, dtype: int64"
      ]
     },
     "execution_count": 91,
     "metadata": {},
     "output_type": "execute_result"
    }
   ],
   "source": [
    "data['Var2'].value_counts()"
   ]
  },
  {
   "cell_type": "code",
   "execution_count": 92,
   "metadata": {},
   "outputs": [
    {
     "data": {
      "image/png": "[encoded data removed]",
      "text/plain": [
       "<Figure size 432x288 with 1 Axes>"
      ]
     },
     "metadata": {},
     "output_type": "display_data"
    }
   ],
   "source": [
    "sns.countplot(x='Disbursed', hue='Var2', data=data)\n",
    "plt.title('Var2 vs. Disbursed - Liczebność klas', x = 0.1, y=1, fontdict={'fontsize': 15})\n",
    "plt.legend()\n",
    "plt.yscale('log')"
   ]
  },
  {
   "cell_type": "code",
   "execution_count": 93,
   "metadata": {},
   "outputs": [],
   "source": [
    "cat_variables.append('Var2')"
   ]
  },
  {
   "cell_type": "markdown",
   "metadata": {},
   "source": [
    "### - Zmienna 'Var4'"
   ]
  },
  {
   "cell_type": "code",
   "execution_count": 94,
   "metadata": {},
   "outputs": [
    {
     "data": {
      "text/plain": [
       "0"
      ]
     },
     "execution_count": 94,
     "metadata": {},
     "output_type": "execute_result"
    }
   ],
   "source": [
    "data['Var4'].isna().sum() #sprawdzam ilość braków danych"
   ]
  },
  {
   "cell_type": "code",
   "execution_count": 95,
   "metadata": {},
   "outputs": [
    {
     "data": {
      "text/plain": [
       "3    25260\n",
       "1    23906\n",
       "5    20265\n",
       "4     6577\n",
       "2     5931\n",
       "0     2530\n",
       "7     2301\n",
       "6      232\n",
       "Name: Var4, dtype: int64"
      ]
     },
     "execution_count": 95,
     "metadata": {},
     "output_type": "execute_result"
    }
   ],
   "source": [
    "data['Var4'].value_counts()"
   ]
  },
  {
   "cell_type": "code",
   "execution_count": 96,
   "metadata": {},
   "outputs": [
    {
     "name": "stdout",
     "output_type": "stream",
     "text": [
      "<class 'pandas.core.frame.DataFrame'>\n",
      "Int64Index: 87002 entries, 0 to 87019\n",
      "Data columns (total 23 columns):\n",
      " #   Column                 Non-Null Count  Dtype  \n",
      "---  ------                 --------------  -----  \n",
      " 0   Gender                 87002 non-null  object \n",
      " 1   Monthly_Income         87002 non-null  int64  \n",
      " 2   Loan_Amount_Applied    86931 non-null  float64\n",
      " 3   Loan_Tenure_Applied    86931 non-null  float64\n",
      " 4   Existing_EMI           86931 non-null  float64\n",
      " 5   Salary_Account         87002 non-null  object \n",
      " 6   Mobile_Verified        87002 non-null  object \n",
      " 7   Var5                   87002 non-null  object \n",
      " 8   Var1                   87002 non-null  object \n",
      " 9   Loan_Amount_Submitted  52407 non-null  float64\n",
      " 10  Loan_Tenure_Submitted  52407 non-null  float64\n",
      " 11  Interest_Rate          27726 non-null  float64\n",
      " 12  Processing_Fee         27420 non-null  float64\n",
      " 13  EMI_Loan_Submitted     27726 non-null  float64\n",
      " 14  Filled_Form            87002 non-null  object \n",
      " 15  Device_Type            87002 non-null  object \n",
      " 16  Var2                   87002 non-null  object \n",
      " 17  Source                 87002 non-null  object \n",
      " 18  Var4                   87002 non-null  int64  \n",
      " 19  Disbursed              87002 non-null  int64  \n",
      " 20  My_City                87002 non-null  object \n",
      " 21  Age                    87002 non-null  int64  \n",
      " 22  My_Employees           87002 non-null  float64\n",
      "dtypes: float64(9), int64(4), object(10)\n",
      "memory usage: 18.4+ MB\n"
     ]
    }
   ],
   "source": [
    "data.info()"
   ]
  },
  {
   "cell_type": "code",
   "execution_count": 97,
   "metadata": {},
   "outputs": [],
   "source": [
    "# Podobnie jak w przypadku 'Var5' zamianiam typ - Zmienną będę traktował jako zmienną kategoryczną\n",
    "data['Var4'] = data['Var4'].astype('str',copy=False)"
   ]
  },
  {
   "cell_type": "code",
   "execution_count": 98,
   "metadata": {},
   "outputs": [
    {
     "data": {
      "image/png": "[encoded data removed]",
      "text/plain": [
       "<Figure size 432x288 with 1 Axes>"
      ]
     },
     "metadata": {},
     "output_type": "display_data"
    }
   ],
   "source": [
    "sns.countplot(x='Disbursed', hue='Var4', data=data)\n",
    "plt.title('Var4 vs. Disbursed - Liczebność klas', x = 0.1, y=1, fontdict={'fontsize': 15})\n",
    "plt.legend()\n",
    "plt.yscale('log')"
   ]
  },
  {
   "cell_type": "code",
   "execution_count": 99,
   "metadata": {},
   "outputs": [],
   "source": [
    "cat_variables.append('Var4')"
   ]
  },
  {
   "cell_type": "code",
   "execution_count": 100,
   "metadata": {},
   "outputs": [
    {
     "data": {
      "text/plain": [
       "Gender              2\n",
       "My_City            12\n",
       "Salary_Account     11\n",
       "Mobile_Verified     2\n",
       "Device_Type         2\n",
       "Source              8\n",
       "Var5               19\n",
       "Var1               19\n",
       "Filled_Form         2\n",
       "Var2                7\n",
       "Var4                8\n",
       "dtype: int64"
      ]
     },
     "execution_count": 100,
     "metadata": {},
     "output_type": "execute_result"
    }
   ],
   "source": [
    "#Ilości unikalnych \n",
    "data[cat_variables].nunique()"
   ]
  },
  {
   "cell_type": "code",
   "execution_count": 101,
   "metadata": {},
   "outputs": [
    {
     "data": {
      "image/png": "[encoded data removed]",
      "text/plain": [
       "<Figure size 1296x3168 with 33 Axes>"
      ]
     },
     "metadata": {},
     "output_type": "display_data"
    }
   ],
   "source": [
    "#narysujemy histogramy dla zmiennych kategorycznych\n",
    "\n",
    "n=len(cat_variables)\n",
    "fig,ax = plt.subplots(n,3, figsize=(18,n*4), sharex=False)\n",
    "for i in range(n):\n",
    "    plt.sca(ax[i,0])\n",
    "    col = data[cat_variables].columns[i]\n",
    "    sns.countplot(data[col].values)\n",
    "    plt.title('{}, (Disbursed=All)'.format(data[cat_variables].columns[i]))\n",
    " \n",
    "    plt.sca(ax[i,1])\n",
    "    col = data[cat_variables].columns[i]\n",
    "    sns.countplot(data[data['Disbursed'] == 0][col].values)\n",
    "    plt.title('{}, (Disbursed=Not paid)'.format(data[cat_variables].columns[i]))\n",
    "    \n",
    "    plt.sca(ax[i,2])\n",
    "    col = data[cat_variables].columns[i]\n",
    "    sns.countplot(data[data['Disbursed'] == 1][col].values)\n",
    "    plt.title('{}, (Disbursed=Paid)'.format(data[cat_variables].columns[i]))"
   ]
  },
  {
   "cell_type": "code",
   "execution_count": 102,
   "metadata": {},
   "outputs": [
    {
     "data": {
      "text/plain": [
       "Gender             0\n",
       "My_City            0\n",
       "Salary_Account     0\n",
       "Mobile_Verified    0\n",
       "Device_Type        0\n",
       "Source             0\n",
       "Var5               0\n",
       "Var1               0\n",
       "Filled_Form        0\n",
       "Var2               0\n",
       "Var4               0\n",
       "dtype: int64"
      ]
     },
     "execution_count": 102,
     "metadata": {},
     "output_type": "execute_result"
    }
   ],
   "source": [
    "data[cat_variables].isna().sum() #sprawdzamy czy są brakujące wartości"
   ]
  },
  {
   "cell_type": "code",
   "execution_count": 103,
   "metadata": {},
   "outputs": [],
   "source": [
    "# zmiana typu na string - tak żeby onehotencoder zadziałał\n",
    "data[cat_variables]=data[cat_variables].astype('str',copy=False)"
   ]
  },
  {
   "cell_type": "markdown",
   "metadata": {},
   "source": [
    "## Zmienne Numeryczne"
   ]
  },
  {
   "cell_type": "code",
   "execution_count": 104,
   "metadata": {},
   "outputs": [
    {
     "data": {
      "text/html": [
       "<div>\n",
       "<style scoped>\n",
       "    .dataframe tbody tr th:only-of-type {\n",
       "        vertical-align: middle;\n",
       "    }\n",
       "\n",
       "    .dataframe tbody tr th {\n",
       "        vertical-align: top;\n",
       "    }\n",
       "\n",
       "    .dataframe thead th {\n",
       "        text-align: right;\n",
       "    }\n",
       "</style>\n",
       "<table border=\"1\" class=\"dataframe\">\n",
       "  <thead>\n",
       "    <tr style=\"text-align: right;\">\n",
       "      <th></th>\n",
       "      <th>Monthly_Income</th>\n",
       "      <th>Loan_Amount_Applied</th>\n",
       "      <th>Loan_Tenure_Applied</th>\n",
       "      <th>Existing_EMI</th>\n",
       "      <th>Loan_Amount_Submitted</th>\n",
       "      <th>Loan_Tenure_Submitted</th>\n",
       "      <th>Interest_Rate</th>\n",
       "      <th>Processing_Fee</th>\n",
       "      <th>EMI_Loan_Submitted</th>\n",
       "      <th>Disbursed</th>\n",
       "      <th>Age</th>\n",
       "      <th>My_Employees</th>\n",
       "    </tr>\n",
       "  </thead>\n",
       "  <tbody>\n",
       "    <tr>\n",
       "      <th>count</th>\n",
       "      <td>8.700200e+04</td>\n",
       "      <td>8.693100e+04</td>\n",
       "      <td>86931.000000</td>\n",
       "      <td>8.693100e+04</td>\n",
       "      <td>5.240700e+04</td>\n",
       "      <td>52407.000000</td>\n",
       "      <td>27726.000000</td>\n",
       "      <td>27420.000000</td>\n",
       "      <td>27726.000000</td>\n",
       "      <td>87002.000000</td>\n",
       "      <td>87002.000000</td>\n",
       "      <td>87002.000000</td>\n",
       "    </tr>\n",
       "    <tr>\n",
       "      <th>mean</th>\n",
       "      <td>5.886130e+04</td>\n",
       "      <td>2.302972e+05</td>\n",
       "      <td>2.131840</td>\n",
       "      <td>3.696993e+03</td>\n",
       "      <td>3.950106e+05</td>\n",
       "      <td>3.891369</td>\n",
       "      <td>19.197474</td>\n",
       "      <td>5131.150839</td>\n",
       "      <td>10999.528377</td>\n",
       "      <td>0.014632</td>\n",
       "      <td>30.890037</td>\n",
       "      <td>1.274152</td>\n",
       "    </tr>\n",
       "    <tr>\n",
       "      <th>std</th>\n",
       "      <td>2.177736e+06</td>\n",
       "      <td>3.542285e+05</td>\n",
       "      <td>2.014168</td>\n",
       "      <td>3.981430e+04</td>\n",
       "      <td>3.082481e+05</td>\n",
       "      <td>1.165359</td>\n",
       "      <td>5.834213</td>\n",
       "      <td>4725.837644</td>\n",
       "      <td>7512.323050</td>\n",
       "      <td>0.120075</td>\n",
       "      <td>7.079899</td>\n",
       "      <td>1.586397</td>\n",
       "    </tr>\n",
       "    <tr>\n",
       "      <th>min</th>\n",
       "      <td>0.000000e+00</td>\n",
       "      <td>0.000000e+00</td>\n",
       "      <td>0.000000</td>\n",
       "      <td>0.000000e+00</td>\n",
       "      <td>5.000000e+04</td>\n",
       "      <td>1.000000</td>\n",
       "      <td>11.990000</td>\n",
       "      <td>200.000000</td>\n",
       "      <td>1176.410000</td>\n",
       "      <td>0.000000</td>\n",
       "      <td>18.000000</td>\n",
       "      <td>0.000000</td>\n",
       "    </tr>\n",
       "    <tr>\n",
       "      <th>25%</th>\n",
       "      <td>1.650000e+04</td>\n",
       "      <td>0.000000e+00</td>\n",
       "      <td>0.000000</td>\n",
       "      <td>0.000000e+00</td>\n",
       "      <td>2.000000e+05</td>\n",
       "      <td>3.000000</td>\n",
       "      <td>15.250000</td>\n",
       "      <td>2000.000000</td>\n",
       "      <td>6491.600000</td>\n",
       "      <td>0.000000</td>\n",
       "      <td>26.000000</td>\n",
       "      <td>0.000000</td>\n",
       "    </tr>\n",
       "    <tr>\n",
       "      <th>50%</th>\n",
       "      <td>2.500000e+04</td>\n",
       "      <td>1.000000e+05</td>\n",
       "      <td>2.000000</td>\n",
       "      <td>0.000000e+00</td>\n",
       "      <td>3.000000e+05</td>\n",
       "      <td>4.000000</td>\n",
       "      <td>18.000000</td>\n",
       "      <td>4000.000000</td>\n",
       "      <td>9392.970000</td>\n",
       "      <td>0.000000</td>\n",
       "      <td>29.000000</td>\n",
       "      <td>0.693147</td>\n",
       "    </tr>\n",
       "    <tr>\n",
       "      <th>75%</th>\n",
       "      <td>4.000000e+04</td>\n",
       "      <td>3.000000e+05</td>\n",
       "      <td>4.000000</td>\n",
       "      <td>3.500000e+03</td>\n",
       "      <td>5.000000e+05</td>\n",
       "      <td>5.000000</td>\n",
       "      <td>20.000000</td>\n",
       "      <td>6250.000000</td>\n",
       "      <td>12919.040000</td>\n",
       "      <td>0.000000</td>\n",
       "      <td>34.000000</td>\n",
       "      <td>2.079442</td>\n",
       "    </tr>\n",
       "    <tr>\n",
       "      <th>max</th>\n",
       "      <td>4.445544e+08</td>\n",
       "      <td>1.000000e+07</td>\n",
       "      <td>10.000000</td>\n",
       "      <td>1.000000e+07</td>\n",
       "      <td>3.000000e+06</td>\n",
       "      <td>6.000000</td>\n",
       "      <td>37.000000</td>\n",
       "      <td>50000.000000</td>\n",
       "      <td>144748.280000</td>\n",
       "      <td>1.000000</td>\n",
       "      <td>83.000000</td>\n",
       "      <td>6.309918</td>\n",
       "    </tr>\n",
       "  </tbody>\n",
       "</table>\n",
       "</div>"
      ],
      "text/plain": [
       "       Monthly_Income  Loan_Amount_Applied  Loan_Tenure_Applied  Existing_EMI  \\\n",
       "count    8.700200e+04         8.693100e+04         86931.000000  8.693100e+04   \n",
       "mean     5.886130e+04         2.302972e+05             2.131840  3.696993e+03   \n",
       "std      2.177736e+06         3.542285e+05             2.014168  3.981430e+04   \n",
       "min      0.000000e+00         0.000000e+00             0.000000  0.000000e+00   \n",
       "25%      1.650000e+04         0.000000e+00             0.000000  0.000000e+00   \n",
       "50%      2.500000e+04         1.000000e+05             2.000000  0.000000e+00   \n",
       "75%      4.000000e+04         3.000000e+05             4.000000  3.500000e+03   \n",
       "max      4.445544e+08         1.000000e+07            10.000000  1.000000e+07   \n",
       "\n",
       "       Loan_Amount_Submitted  Loan_Tenure_Submitted  Interest_Rate  \\\n",
       "count           5.240700e+04           52407.000000   27726.000000   \n",
       "mean            3.950106e+05               3.891369      19.197474   \n",
       "std             3.082481e+05               1.165359       5.834213   \n",
       "min             5.000000e+04               1.000000      11.990000   \n",
       "25%             2.000000e+05               3.000000      15.250000   \n",
       "50%             3.000000e+05               4.000000      18.000000   \n",
       "75%             5.000000e+05               5.000000      20.000000   \n",
       "max             3.000000e+06               6.000000      37.000000   \n",
       "\n",
       "       Processing_Fee  EMI_Loan_Submitted     Disbursed           Age  \\\n",
       "count    27420.000000        27726.000000  87002.000000  87002.000000   \n",
       "mean      5131.150839        10999.528377      0.014632     30.890037   \n",
       "std       4725.837644         7512.323050      0.120075      7.079899   \n",
       "min        200.000000         1176.410000      0.000000     18.000000   \n",
       "25%       2000.000000         6491.600000      0.000000     26.000000   \n",
       "50%       4000.000000         9392.970000      0.000000     29.000000   \n",
       "75%       6250.000000        12919.040000      0.000000     34.000000   \n",
       "max      50000.000000       144748.280000      1.000000     83.000000   \n",
       "\n",
       "       My_Employees  \n",
       "count  87002.000000  \n",
       "mean       1.274152  \n",
       "std        1.586397  \n",
       "min        0.000000  \n",
       "25%        0.000000  \n",
       "50%        0.693147  \n",
       "75%        2.079442  \n",
       "max        6.309918  "
      ]
     },
     "execution_count": 104,
     "metadata": {},
     "output_type": "execute_result"
    }
   ],
   "source": [
    "data.describe() #Przeglądam zmienne numeryczne"
   ]
  },
  {
   "cell_type": "code",
   "execution_count": 105,
   "metadata": {},
   "outputs": [
    {
     "data": {
      "text/plain": [
       "Monthly_Income           167.543215\n",
       "Loan_Amount_Applied        5.641660\n",
       "Loan_Tenure_Applied        0.264277\n",
       "Existing_EMI             211.747940\n",
       "Var5                       0.760304\n",
       "Loan_Amount_Submitted      2.104984\n",
       "Loan_Tenure_Submitted     -0.843323\n",
       "Interest_Rate              1.430301\n",
       "Processing_Fee             2.680109\n",
       "EMI_Loan_Submitted         2.754955\n",
       "Var4                       0.221271\n",
       "Disbursed                  8.084626\n",
       "Age                        1.466827\n",
       "My_Employees               1.227404\n",
       "dtype: float64"
      ]
     },
     "execution_count": 105,
     "metadata": {},
     "output_type": "execute_result"
    }
   ],
   "source": [
    "data.skew(axis = 0, skipna = True) #sprawdzenie skosności dla zmiennych numerycznych"
   ]
  },
  {
   "cell_type": "markdown",
   "metadata": {},
   "source": [
    "#### Dla zmiennych, których skośność > 1. w zrobię przekształcenia - będę wyliczaał logarytm ze zmiennej."
   ]
  },
  {
   "cell_type": "markdown",
   "metadata": {},
   "source": [
    "### Zmienna - 'Monthly_Income'"
   ]
  },
  {
   "cell_type": "code",
   "execution_count": 106,
   "metadata": {},
   "outputs": [
    {
     "data": {
      "text/plain": [
       "0"
      ]
     },
     "execution_count": 106,
     "metadata": {},
     "output_type": "execute_result"
    }
   ],
   "source": [
    "data['Monthly_Income'].isna().sum() #sprawdzam ilość braków danych"
   ]
  },
  {
   "cell_type": "code",
   "execution_count": 107,
   "metadata": {},
   "outputs": [
    {
     "data": {
      "text/plain": [
       "count    8.700200e+04\n",
       "mean     5.886130e+04\n",
       "std      2.177736e+06\n",
       "min      0.000000e+00\n",
       "25%      1.650000e+04\n",
       "50%      2.500000e+04\n",
       "75%      4.000000e+04\n",
       "max      4.445544e+08\n",
       "Name: Monthly_Income, dtype: float64"
      ]
     },
     "execution_count": 107,
     "metadata": {},
     "output_type": "execute_result"
    }
   ],
   "source": [
    "data['Monthly_Income'].describe()"
   ]
  },
  {
   "cell_type": "code",
   "execution_count": 108,
   "metadata": {},
   "outputs": [
    {
     "data": {
      "text/plain": [
       "<AxesSubplot:>"
      ]
     },
     "execution_count": 108,
     "metadata": {},
     "output_type": "execute_result"
    },
    {
     "data": {
      "image/png": "[encoded data removed]",
      "text/plain": [
       "<Figure size 432x288 with 1 Axes>"
      ]
     },
     "metadata": {},
     "output_type": "display_data"
    }
   ],
   "source": [
    "data['Monthly_Income'][data['Monthly_Income'] < 200000].hist(bins=100)"
   ]
  },
  {
   "cell_type": "code",
   "execution_count": 109,
   "metadata": {},
   "outputs": [
    {
     "data": {
      "text/plain": [
       "<AxesSubplot:>"
      ]
     },
     "execution_count": 109,
     "metadata": {},
     "output_type": "execute_result"
    },
    {
     "data": {
      "image/png": "[encoded data removed]",
      "text/plain": [
       "<Figure size 432x288 with 1 Axes>"
      ]
     },
     "metadata": {},
     "output_type": "display_data"
    }
   ],
   "source": [
    "#aby zlikfidowaść skośność przekształce logarytmicznie zbiór (+1 ze względu na zerowe wartości)\n",
    "data['Monthly_Income_Log'] = np.log10(data['Monthly_Income'] + 1)\n",
    "data['Monthly_Income_Log'].hist(bins=100)"
   ]
  },
  {
   "cell_type": "code",
   "execution_count": 110,
   "metadata": {},
   "outputs": [
    {
     "data": {
      "text/plain": [
       "Text(0.1, 1, 'Monthly_Income_Log vs. Disbursed - Liczebność klas')"
      ]
     },
     "execution_count": 110,
     "metadata": {},
     "output_type": "execute_result"
    },
    {
     "data": {
      "image/png": "[encoded data removed]",
      "text/plain": [
       "<Figure size 432x288 with 1 Axes>"
      ]
     },
     "metadata": {},
     "output_type": "display_data"
    }
   ],
   "source": [
    "sns.distplot(data['Monthly_Income_Log'][data['Disbursed'] == 0], color='r')\n",
    "sns.distplot(data['Monthly_Income_Log'][data['Disbursed'] == 1], color='g')\n",
    "plt.title('Monthly_Income_Log vs. Disbursed - Liczebność klas', x = 0.1, y=1, fontdict={'fontsize': 15})"
   ]
  },
  {
   "cell_type": "code",
   "execution_count": 111,
   "metadata": {},
   "outputs": [
    {
     "data": {
      "text/plain": [
       "count    87002.000000\n",
       "mean         4.405441\n",
       "std          0.428629\n",
       "min          0.000000\n",
       "25%          4.217510\n",
       "50%          4.397957\n",
       "75%          4.602071\n",
       "max          8.647925\n",
       "Name: Monthly_Income_Log, dtype: float64"
      ]
     },
     "execution_count": 111,
     "metadata": {},
     "output_type": "execute_result"
    }
   ],
   "source": [
    "data['Monthly_Income_Log'].describe()"
   ]
  },
  {
   "cell_type": "code",
   "execution_count": 112,
   "metadata": {},
   "outputs": [],
   "source": [
    "num_variables.append('Monthly_Income_Log') # Dodaję zmienne do kontenera num."
   ]
  },
  {
   "cell_type": "markdown",
   "metadata": {},
   "source": [
    "### - Zmienna 'Loan_Amount_Applied'"
   ]
  },
  {
   "cell_type": "code",
   "execution_count": 113,
   "metadata": {},
   "outputs": [
    {
     "data": {
      "text/plain": [
       "71"
      ]
     },
     "execution_count": 113,
     "metadata": {},
     "output_type": "execute_result"
    }
   ],
   "source": [
    "data['Loan_Amount_Applied'].isna().sum() #sprawdzam ilość braków danych"
   ]
  },
  {
   "cell_type": "code",
   "execution_count": 114,
   "metadata": {},
   "outputs": [
    {
     "data": {
      "text/plain": [
       "count    8.693100e+04\n",
       "mean     2.302972e+05\n",
       "std      3.542285e+05\n",
       "min      0.000000e+00\n",
       "25%      0.000000e+00\n",
       "50%      1.000000e+05\n",
       "75%      3.000000e+05\n",
       "max      1.000000e+07\n",
       "Name: Loan_Amount_Applied, dtype: float64"
      ]
     },
     "execution_count": 114,
     "metadata": {},
     "output_type": "execute_result"
    }
   ],
   "source": [
    "data[\"Loan_Amount_Applied\"].describe()"
   ]
  },
  {
   "cell_type": "code",
   "execution_count": 115,
   "metadata": {},
   "outputs": [
    {
     "data": {
      "text/plain": [
       "0.0          28836\n",
       "100000.0     14310\n",
       "200000.0     13058\n",
       "300000.0      9995\n",
       "500000.0      9762\n",
       "             ...  \n",
       "560000.0         1\n",
       "475000.0         1\n",
       "460000.0         1\n",
       "1405000.0        1\n",
       "204000.0         1\n",
       "Name: Loan_Amount_Applied, Length: 277, dtype: int64"
      ]
     },
     "execution_count": 115,
     "metadata": {},
     "output_type": "execute_result"
    }
   ],
   "source": [
    "data['Loan_Amount_Applied'].value_counts()"
   ]
  },
  {
   "cell_type": "code",
   "execution_count": 116,
   "metadata": {},
   "outputs": [],
   "source": [
    "data.loc[data['Loan_Amount_Applied'].isna(), 'Loan_Amount_Applied'] = 0.0"
   ]
  },
  {
   "cell_type": "code",
   "execution_count": 117,
   "metadata": {},
   "outputs": [
    {
     "data": {
      "text/plain": [
       "0"
      ]
     },
     "execution_count": 117,
     "metadata": {},
     "output_type": "execute_result"
    }
   ],
   "source": [
    "data['Loan_Amount_Applied'].isna().sum()"
   ]
  },
  {
   "cell_type": "code",
   "execution_count": 118,
   "metadata": {},
   "outputs": [
    {
     "data": {
      "text/plain": [
       "<AxesSubplot:>"
      ]
     },
     "execution_count": 118,
     "metadata": {},
     "output_type": "execute_result"
    },
    {
     "data": {
      "image/png": "[encoded data removed]",
      "text/plain": [
       "<Figure size 432x288 with 1 Axes>"
      ]
     },
     "metadata": {},
     "output_type": "display_data"
    }
   ],
   "source": [
    "data['Loan_Amount_Applied'][data['Loan_Amount_Applied'] < 10e5].hist(bins=20)"
   ]
  },
  {
   "cell_type": "code",
   "execution_count": 119,
   "metadata": {},
   "outputs": [],
   "source": [
    "#aby zlikfidowaść skośność przekształcelogarytmicznie zbiór (+1 ze względu na zerowe wartości)\n",
    "data[\"Loan_Amount_Applied_log\"]=np.log(data[\"Loan_Amount_Applied\"]+1)"
   ]
  },
  {
   "cell_type": "code",
   "execution_count": 120,
   "metadata": {},
   "outputs": [
    {
     "data": {
      "text/plain": [
       "<AxesSubplot:>"
      ]
     },
     "execution_count": 120,
     "metadata": {},
     "output_type": "execute_result"
    },
    {
     "data": {
      "image/png": "[encoded data removed]",
      "text/plain": [
       "<Figure size 432x288 with 1 Axes>"
      ]
     },
     "metadata": {},
     "output_type": "display_data"
    }
   ],
   "source": [
    "#sns.distplot(data[\"Loan_Amount_Applied_log\"].dropna(), kde=False, bins=20)\n",
    "data['Loan_Amount_Applied_log'][data['Loan_Amount_Applied_log'] < 10e5].hist(bins=20)"
   ]
  },
  {
   "cell_type": "code",
   "execution_count": 121,
   "metadata": {},
   "outputs": [],
   "source": [
    "num_variables.append('Loan_Amount_Applied_log')"
   ]
  },
  {
   "cell_type": "markdown",
   "metadata": {},
   "source": [
    "### - Zmienna 'Loan_Tenure_Applied'"
   ]
  },
  {
   "cell_type": "code",
   "execution_count": 122,
   "metadata": {},
   "outputs": [
    {
     "data": {
      "text/plain": [
       "71"
      ]
     },
     "execution_count": 122,
     "metadata": {},
     "output_type": "execute_result"
    }
   ],
   "source": [
    "data['Loan_Tenure_Applied'].isna().sum() #sprawdzam ilość braków danych"
   ]
  },
  {
   "cell_type": "code",
   "execution_count": 123,
   "metadata": {},
   "outputs": [
    {
     "data": {
      "text/plain": [
       "count    86931.000000\n",
       "mean         2.131840\n",
       "std          2.014168\n",
       "min          0.000000\n",
       "25%          0.000000\n",
       "50%          2.000000\n",
       "75%          4.000000\n",
       "max         10.000000\n",
       "Name: Loan_Tenure_Applied, dtype: float64"
      ]
     },
     "execution_count": 123,
     "metadata": {},
     "output_type": "execute_result"
    }
   ],
   "source": [
    "data[\"Loan_Tenure_Applied\"].describe()"
   ]
  },
  {
   "cell_type": "code",
   "execution_count": 124,
   "metadata": {},
   "outputs": [],
   "source": [
    "data.loc[data['Loan_Tenure_Applied'].isna(), 'Loan_Tenure_Applied'] = 0.0"
   ]
  },
  {
   "cell_type": "code",
   "execution_count": 125,
   "metadata": {},
   "outputs": [
    {
     "data": {
      "text/plain": [
       "0"
      ]
     },
     "execution_count": 125,
     "metadata": {},
     "output_type": "execute_result"
    }
   ],
   "source": [
    "data['Loan_Tenure_Applied'].isna().sum()"
   ]
  },
  {
   "cell_type": "code",
   "execution_count": 126,
   "metadata": {},
   "outputs": [
    {
     "data": {
      "text/plain": [
       "0.0     33897\n",
       "5.0     19083\n",
       "3.0     13080\n",
       "2.0      9463\n",
       "4.0      6620\n",
       "1.0      4812\n",
       "10.0       40\n",
       "7.0         3\n",
       "6.0         2\n",
       "9.0         1\n",
       "8.0         1\n",
       "Name: Loan_Tenure_Applied, dtype: int64"
      ]
     },
     "execution_count": 126,
     "metadata": {},
     "output_type": "execute_result"
    }
   ],
   "source": [
    "data['Loan_Tenure_Applied'].value_counts()"
   ]
  },
  {
   "cell_type": "code",
   "execution_count": 127,
   "metadata": {},
   "outputs": [],
   "source": [
    "num_variables.append('Loan_Tenure_Applied')"
   ]
  },
  {
   "cell_type": "markdown",
   "metadata": {},
   "source": [
    "### - Zmienna 'Existing_EMI'"
   ]
  },
  {
   "cell_type": "code",
   "execution_count": 128,
   "metadata": {},
   "outputs": [
    {
     "data": {
      "text/plain": [
       "71"
      ]
     },
     "execution_count": 128,
     "metadata": {},
     "output_type": "execute_result"
    }
   ],
   "source": [
    "data['Existing_EMI'].isna().sum() #sprawdzam ilość braków danych"
   ]
  },
  {
   "cell_type": "code",
   "execution_count": 129,
   "metadata": {},
   "outputs": [
    {
     "data": {
      "text/plain": [
       "count    8.693100e+04\n",
       "mean     3.696993e+03\n",
       "std      3.981430e+04\n",
       "min      0.000000e+00\n",
       "25%      0.000000e+00\n",
       "50%      0.000000e+00\n",
       "75%      3.500000e+03\n",
       "max      1.000000e+07\n",
       "Name: Existing_EMI, dtype: float64"
      ]
     },
     "execution_count": 129,
     "metadata": {},
     "output_type": "execute_result"
    }
   ],
   "source": [
    "data[\"Existing_EMI\"].describe()"
   ]
  },
  {
   "cell_type": "code",
   "execution_count": 130,
   "metadata": {},
   "outputs": [
    {
     "data": {
      "text/plain": [
       "(58221, 25)"
      ]
     },
     "execution_count": 130,
     "metadata": {},
     "output_type": "execute_result"
    }
   ],
   "source": [
    "data[data[\"Existing_EMI\"]==0].shape"
   ]
  },
  {
   "cell_type": "code",
   "execution_count": 131,
   "metadata": {},
   "outputs": [
    {
     "data": {
      "text/plain": [
       "<AxesSubplot:>"
      ]
     },
     "execution_count": 131,
     "metadata": {},
     "output_type": "execute_result"
    },
    {
     "data": {
      "image/png": "[encoded data removed]",
      "text/plain": [
       "<Figure size 432x288 with 1 Axes>"
      ]
     },
     "metadata": {},
     "output_type": "display_data"
    }
   ],
   "source": [
    "data['Existing_EMI'][data['Existing_EMI'] < 10e3].hist(bins=20)"
   ]
  },
  {
   "cell_type": "code",
   "execution_count": 132,
   "metadata": {},
   "outputs": [],
   "source": [
    "data.loc[data['Existing_EMI'].isna(), 'Existing_EMI'] = 0.0"
   ]
  },
  {
   "cell_type": "code",
   "execution_count": 133,
   "metadata": {},
   "outputs": [],
   "source": [
    "data[\"Existing_EMI_log\"]=np.log(data[\"Existing_EMI\"]+1) \n",
    "#+1 ze uwagi na zerowe wartości"
   ]
  },
  {
   "cell_type": "code",
   "execution_count": 134,
   "metadata": {},
   "outputs": [
    {
     "data": {
      "text/plain": [
       "<AxesSubplot:>"
      ]
     },
     "execution_count": 134,
     "metadata": {},
     "output_type": "execute_result"
    },
    {
     "data": {
      "image/png": "[encoded data removed]",
      "text/plain": [
       "<Figure size 432x288 with 1 Axes>"
      ]
     },
     "metadata": {},
     "output_type": "display_data"
    }
   ],
   "source": [
    "data['Existing_EMI_log'][data['Existing_EMI'] < 10e3].hist(bins=20)"
   ]
  },
  {
   "cell_type": "code",
   "execution_count": 135,
   "metadata": {},
   "outputs": [],
   "source": [
    "num_variables.append('Existing_EMI_log')"
   ]
  },
  {
   "cell_type": "markdown",
   "metadata": {},
   "source": [
    "### - Zmienna 'Loan_Amount_Submitted'"
   ]
  },
  {
   "cell_type": "code",
   "execution_count": 136,
   "metadata": {},
   "outputs": [
    {
     "data": {
      "text/plain": [
       "34595"
      ]
     },
     "execution_count": 136,
     "metadata": {},
     "output_type": "execute_result"
    }
   ],
   "source": [
    "data['Loan_Amount_Submitted'].isna().sum()"
   ]
  },
  {
   "cell_type": "code",
   "execution_count": 137,
   "metadata": {},
   "outputs": [
    {
     "data": {
      "text/plain": [
       "count    5.240700e+04\n",
       "mean     3.950106e+05\n",
       "std      3.082481e+05\n",
       "min      5.000000e+04\n",
       "25%      2.000000e+05\n",
       "50%      3.000000e+05\n",
       "75%      5.000000e+05\n",
       "max      3.000000e+06\n",
       "Name: Loan_Amount_Submitted, dtype: float64"
      ]
     },
     "execution_count": 137,
     "metadata": {},
     "output_type": "execute_result"
    }
   ],
   "source": [
    "data[\"Loan_Amount_Submitted\"].describe()"
   ]
  },
  {
   "cell_type": "code",
   "execution_count": 138,
   "metadata": {},
   "outputs": [
    {
     "data": {
      "text/plain": [
       "<AxesSubplot:xlabel='Loan_Amount_Submitted'>"
      ]
     },
     "execution_count": 138,
     "metadata": {},
     "output_type": "execute_result"
    },
    {
     "data": {
      "image/png": "[encoded data removed]",
      "text/plain": [
       "<Figure size 432x288 with 1 Axes>"
      ]
     },
     "metadata": {},
     "output_type": "display_data"
    }
   ],
   "source": [
    "sns.distplot(data['Loan_Amount_Submitted'].dropna(), kde=False,bins=100)"
   ]
  },
  {
   "cell_type": "code",
   "execution_count": 139,
   "metadata": {},
   "outputs": [],
   "source": [
    "data.loc[data['Loan_Amount_Submitted'].isna(), 'Loan_Amount_Submitted'] = 0"
   ]
  },
  {
   "cell_type": "code",
   "execution_count": 140,
   "metadata": {},
   "outputs": [
    {
     "data": {
      "text/plain": [
       "0"
      ]
     },
     "execution_count": 140,
     "metadata": {},
     "output_type": "execute_result"
    }
   ],
   "source": [
    "data['Loan_Amount_Submitted'].isna().sum()"
   ]
  },
  {
   "cell_type": "code",
   "execution_count": 141,
   "metadata": {},
   "outputs": [],
   "source": [
    "data['Loan_Amount_Submitted_Log'] = np.log10(data['Loan_Amount_Submitted'] + 1)\n",
    "#+1 ze względu na zerowe wartości"
   ]
  },
  {
   "cell_type": "code",
   "execution_count": 142,
   "metadata": {},
   "outputs": [
    {
     "data": {
      "text/plain": [
       "<AxesSubplot:>"
      ]
     },
     "execution_count": 142,
     "metadata": {},
     "output_type": "execute_result"
    },
    {
     "data": {
      "image/png": "[encoded data removed]",
      "text/plain": [
       "<Figure size 432x288 with 1 Axes>"
      ]
     },
     "metadata": {},
     "output_type": "display_data"
    }
   ],
   "source": [
    "data['Loan_Amount_Submitted_Log'].hist()"
   ]
  },
  {
   "cell_type": "code",
   "execution_count": 143,
   "metadata": {},
   "outputs": [
    {
     "data": {
      "text/plain": [
       "<AxesSubplot:xlabel='Loan_Amount_Submitted_Log'>"
      ]
     },
     "execution_count": 143,
     "metadata": {},
     "output_type": "execute_result"
    },
    {
     "data": {
      "image/png": "[encoded data removed]",
      "text/plain": [
       "<Figure size 432x288 with 1 Axes>"
      ]
     },
     "metadata": {},
     "output_type": "display_data"
    }
   ],
   "source": [
    "sns.distplot(data['Loan_Amount_Submitted_Log'].dropna(), kde=False,bins=100)"
   ]
  },
  {
   "cell_type": "code",
   "execution_count": 144,
   "metadata": {},
   "outputs": [],
   "source": [
    "num_variables.append('Loan_Amount_Submitted_Log')"
   ]
  },
  {
   "cell_type": "markdown",
   "metadata": {},
   "source": [
    "### - Zmienna 'Loan_Tenure_Submitted'"
   ]
  },
  {
   "cell_type": "code",
   "execution_count": 145,
   "metadata": {},
   "outputs": [
    {
     "data": {
      "text/plain": [
       "34595"
      ]
     },
     "execution_count": 145,
     "metadata": {},
     "output_type": "execute_result"
    }
   ],
   "source": [
    "data['Loan_Tenure_Submitted'].isna().sum()"
   ]
  },
  {
   "cell_type": "code",
   "execution_count": 146,
   "metadata": {},
   "outputs": [
    {
     "data": {
      "text/plain": [
       "<AxesSubplot:xlabel='Loan_Tenure_Submitted'>"
      ]
     },
     "execution_count": 146,
     "metadata": {},
     "output_type": "execute_result"
    },
    {
     "data": {
      "image/png": "[encoded data removed]",
      "text/plain": [
       "<Figure size 432x288 with 1 Axes>"
      ]
     },
     "metadata": {},
     "output_type": "display_data"
    }
   ],
   "source": [
    "sns.distplot(data[\"Loan_Tenure_Submitted\"].dropna(), kde=False,bins=20)"
   ]
  },
  {
   "cell_type": "code",
   "execution_count": 147,
   "metadata": {},
   "outputs": [],
   "source": [
    "data.loc[data['Loan_Tenure_Submitted'].isna(), 'Loan_Tenure_Submitted'] = 0"
   ]
  },
  {
   "cell_type": "code",
   "execution_count": 148,
   "metadata": {},
   "outputs": [
    {
     "data": {
      "text/plain": [
       "<AxesSubplot:>"
      ]
     },
     "execution_count": 148,
     "metadata": {},
     "output_type": "execute_result"
    },
    {
     "data": {
      "image/png": "[encoded data removed]",
      "text/plain": [
       "<Figure size 432x288 with 1 Axes>"
      ]
     },
     "metadata": {},
     "output_type": "display_data"
    }
   ],
   "source": [
    "data['Loan_Tenure_Submitted'].hist()"
   ]
  },
  {
   "cell_type": "code",
   "execution_count": 149,
   "metadata": {},
   "outputs": [],
   "source": [
    "num_variables.append('Loan_Tenure_Submitted')"
   ]
  },
  {
   "cell_type": "markdown",
   "metadata": {},
   "source": [
    "### - Zmienna 'Interest_Rate'"
   ]
  },
  {
   "cell_type": "code",
   "execution_count": 150,
   "metadata": {},
   "outputs": [
    {
     "data": {
      "text/plain": [
       "20.00    4707\n",
       "14.85    2016\n",
       "13.99    1699\n",
       "31.50    1696\n",
       "15.25    1553\n",
       "         ... \n",
       "14.55       2\n",
       "20.50       2\n",
       "15.60       1\n",
       "14.29       1\n",
       "15.15       1\n",
       "Name: Interest_Rate, Length: 73, dtype: int64"
      ]
     },
     "execution_count": 150,
     "metadata": {},
     "output_type": "execute_result"
    }
   ],
   "source": [
    "data['Interest_Rate'].value_counts()"
   ]
  },
  {
   "cell_type": "code",
   "execution_count": 151,
   "metadata": {},
   "outputs": [
    {
     "data": {
      "text/plain": [
       "59276"
      ]
     },
     "execution_count": 151,
     "metadata": {},
     "output_type": "execute_result"
    }
   ],
   "source": [
    "data.Interest_Rate.isnull().sum()"
   ]
  },
  {
   "cell_type": "code",
   "execution_count": 152,
   "metadata": {},
   "outputs": [],
   "source": [
    "# Zmiennej nie będę brał pod uwagę, zbyt dużo Nans, nie zapisuje do kontenera num_featurs"
   ]
  },
  {
   "cell_type": "markdown",
   "metadata": {},
   "source": [
    "### - Zmienna 'Processing_Fee'"
   ]
  },
  {
   "cell_type": "code",
   "execution_count": 153,
   "metadata": {},
   "outputs": [
    {
     "data": {
      "text/plain": [
       "59582"
      ]
     },
     "execution_count": 153,
     "metadata": {},
     "output_type": "execute_result"
    }
   ],
   "source": [
    "data.Processing_Fee.isnull().sum()"
   ]
  },
  {
   "cell_type": "code",
   "execution_count": 154,
   "metadata": {},
   "outputs": [],
   "source": [
    " #Zmiennej nie będę brał pod uwagę, zbyt dużo Nans, nie zapisuje do kontenera num_featurs"
   ]
  },
  {
   "cell_type": "markdown",
   "metadata": {},
   "source": [
    "### - Zmienna 'EMI_Loan_Submitted'"
   ]
  },
  {
   "cell_type": "code",
   "execution_count": 155,
   "metadata": {},
   "outputs": [
    {
     "data": {
      "text/plain": [
       "59276"
      ]
     },
     "execution_count": 155,
     "metadata": {},
     "output_type": "execute_result"
    }
   ],
   "source": [
    "data.EMI_Loan_Submitted.isnull().sum()"
   ]
  },
  {
   "cell_type": "code",
   "execution_count": 156,
   "metadata": {},
   "outputs": [],
   "source": [
    " #Zmiennej nie będę brał pod uwagę, zbyt dużo Nans, nie zapisuje do kontenera num_featurs"
   ]
  },
  {
   "cell_type": "markdown",
   "metadata": {},
   "source": [
    "## Dane numeryczne-podsumowanie"
   ]
  },
  {
   "cell_type": "code",
   "execution_count": 157,
   "metadata": {},
   "outputs": [
    {
     "data": {
      "text/html": [
       "<div>\n",
       "<style scoped>\n",
       "    .dataframe tbody tr th:only-of-type {\n",
       "        vertical-align: middle;\n",
       "    }\n",
       "\n",
       "    .dataframe tbody tr th {\n",
       "        vertical-align: top;\n",
       "    }\n",
       "\n",
       "    .dataframe thead th {\n",
       "        text-align: right;\n",
       "    }\n",
       "</style>\n",
       "<table border=\"1\" class=\"dataframe\">\n",
       "  <thead>\n",
       "    <tr style=\"text-align: right;\">\n",
       "      <th></th>\n",
       "      <th>Age</th>\n",
       "      <th>My_Employees</th>\n",
       "      <th>Monthly_Income_Log</th>\n",
       "      <th>Loan_Amount_Applied_log</th>\n",
       "      <th>Loan_Tenure_Applied</th>\n",
       "      <th>Existing_EMI_log</th>\n",
       "      <th>Loan_Amount_Submitted_Log</th>\n",
       "      <th>Loan_Tenure_Submitted</th>\n",
       "    </tr>\n",
       "  </thead>\n",
       "  <tbody>\n",
       "    <tr>\n",
       "      <th>count</th>\n",
       "      <td>87002.000000</td>\n",
       "      <td>87002.000000</td>\n",
       "      <td>87002.000000</td>\n",
       "      <td>87002.000000</td>\n",
       "      <td>87002.000000</td>\n",
       "      <td>87002.000000</td>\n",
       "      <td>87002.000000</td>\n",
       "      <td>87002.000000</td>\n",
       "    </tr>\n",
       "    <tr>\n",
       "      <th>mean</th>\n",
       "      <td>30.890037</td>\n",
       "      <td>1.274152</td>\n",
       "      <td>4.405441</td>\n",
       "      <td>8.259975</td>\n",
       "      <td>2.130100</td>\n",
       "      <td>2.892483</td>\n",
       "      <td>3.304067</td>\n",
       "      <td>2.344027</td>\n",
       "    </tr>\n",
       "    <tr>\n",
       "      <th>std</th>\n",
       "      <td>7.079899</td>\n",
       "      <td>1.586397</td>\n",
       "      <td>0.428629</td>\n",
       "      <td>5.876491</td>\n",
       "      <td>2.014266</td>\n",
       "      <td>4.172069</td>\n",
       "      <td>2.695559</td>\n",
       "      <td>2.108340</td>\n",
       "    </tr>\n",
       "    <tr>\n",
       "      <th>min</th>\n",
       "      <td>18.000000</td>\n",
       "      <td>0.000000</td>\n",
       "      <td>0.000000</td>\n",
       "      <td>0.000000</td>\n",
       "      <td>0.000000</td>\n",
       "      <td>0.000000</td>\n",
       "      <td>0.000000</td>\n",
       "      <td>0.000000</td>\n",
       "    </tr>\n",
       "    <tr>\n",
       "      <th>25%</th>\n",
       "      <td>26.000000</td>\n",
       "      <td>0.000000</td>\n",
       "      <td>4.217510</td>\n",
       "      <td>0.000000</td>\n",
       "      <td>0.000000</td>\n",
       "      <td>0.000000</td>\n",
       "      <td>0.000000</td>\n",
       "      <td>0.000000</td>\n",
       "    </tr>\n",
       "    <tr>\n",
       "      <th>50%</th>\n",
       "      <td>29.000000</td>\n",
       "      <td>0.693147</td>\n",
       "      <td>4.397957</td>\n",
       "      <td>11.512935</td>\n",
       "      <td>2.000000</td>\n",
       "      <td>0.000000</td>\n",
       "      <td>5.176094</td>\n",
       "      <td>3.000000</td>\n",
       "    </tr>\n",
       "    <tr>\n",
       "      <th>75%</th>\n",
       "      <td>34.000000</td>\n",
       "      <td>2.079442</td>\n",
       "      <td>4.602071</td>\n",
       "      <td>12.611541</td>\n",
       "      <td>4.000000</td>\n",
       "      <td>8.160804</td>\n",
       "      <td>5.556304</td>\n",
       "      <td>4.000000</td>\n",
       "    </tr>\n",
       "    <tr>\n",
       "      <th>max</th>\n",
       "      <td>83.000000</td>\n",
       "      <td>6.309918</td>\n",
       "      <td>8.647925</td>\n",
       "      <td>16.118096</td>\n",
       "      <td>10.000000</td>\n",
       "      <td>16.118096</td>\n",
       "      <td>6.477121</td>\n",
       "      <td>6.000000</td>\n",
       "    </tr>\n",
       "  </tbody>\n",
       "</table>\n",
       "</div>"
      ],
      "text/plain": [
       "                Age  My_Employees  Monthly_Income_Log  \\\n",
       "count  87002.000000  87002.000000        87002.000000   \n",
       "mean      30.890037      1.274152            4.405441   \n",
       "std        7.079899      1.586397            0.428629   \n",
       "min       18.000000      0.000000            0.000000   \n",
       "25%       26.000000      0.000000            4.217510   \n",
       "50%       29.000000      0.693147            4.397957   \n",
       "75%       34.000000      2.079442            4.602071   \n",
       "max       83.000000      6.309918            8.647925   \n",
       "\n",
       "       Loan_Amount_Applied_log  Loan_Tenure_Applied  Existing_EMI_log  \\\n",
       "count             87002.000000         87002.000000      87002.000000   \n",
       "mean                  8.259975             2.130100          2.892483   \n",
       "std                   5.876491             2.014266          4.172069   \n",
       "min                   0.000000             0.000000          0.000000   \n",
       "25%                   0.000000             0.000000          0.000000   \n",
       "50%                  11.512935             2.000000          0.000000   \n",
       "75%                  12.611541             4.000000          8.160804   \n",
       "max                  16.118096            10.000000         16.118096   \n",
       "\n",
       "       Loan_Amount_Submitted_Log  Loan_Tenure_Submitted  \n",
       "count               87002.000000           87002.000000  \n",
       "mean                    3.304067               2.344027  \n",
       "std                     2.695559               2.108340  \n",
       "min                     0.000000               0.000000  \n",
       "25%                     0.000000               0.000000  \n",
       "50%                     5.176094               3.000000  \n",
       "75%                     5.556304               4.000000  \n",
       "max                     6.477121               6.000000  "
      ]
     },
     "execution_count": 157,
     "metadata": {},
     "output_type": "execute_result"
    }
   ],
   "source": [
    "data[num_variables].describe()"
   ]
  },
  {
   "cell_type": "code",
   "execution_count": 158,
   "metadata": {},
   "outputs": [
    {
     "data": {
      "text/plain": [
       "Age                          0\n",
       "My_Employees                 0\n",
       "Monthly_Income_Log           0\n",
       "Loan_Amount_Applied_log      0\n",
       "Loan_Tenure_Applied          0\n",
       "Existing_EMI_log             0\n",
       "Loan_Amount_Submitted_Log    0\n",
       "Loan_Tenure_Submitted        0\n",
       "dtype: int64"
      ]
     },
     "execution_count": 158,
     "metadata": {},
     "output_type": "execute_result"
    }
   ],
   "source": [
    "data[num_variables].isna().sum() # braki w danych"
   ]
  },
  {
   "cell_type": "code",
   "execution_count": 159,
   "metadata": {},
   "outputs": [
    {
     "data": {
      "text/plain": [
       "Age                          1.466827\n",
       "My_Employees                 1.227404\n",
       "Monthly_Income_Log          -3.809544\n",
       "Loan_Amount_Applied_log     -0.664176\n",
       "Loan_Tenure_Applied          0.265646\n",
       "Existing_EMI_log             0.787968\n",
       "Loan_Amount_Submitted_Log   -0.393356\n",
       "Loan_Tenure_Submitted        0.011081\n",
       "dtype: float64"
      ]
     },
     "execution_count": 159,
     "metadata": {},
     "output_type": "execute_result"
    }
   ],
   "source": [
    "data[num_variables].skew(axis = 0, skipna = True) #skośność przekształconych zmiennych"
   ]
  },
  {
   "cell_type": "code",
   "execution_count": 160,
   "metadata": {},
   "outputs": [
    {
     "name": "stdout",
     "output_type": "stream",
     "text": [
      "/-----Dane categoryczne-podsumowanie-----/\n",
      "\n",
      "Male      49831\n",
      "Female    37171\n",
      "Name: Gender, dtype: int64\n",
      "/----------------------------------------/\n",
      "\n",
      "O     25108\n",
      "D     12524\n",
      "B     10821\n",
      "M     10791\n",
      "H      7270\n",
      "C      6916\n",
      "P      5207\n",
      "K      2888\n",
      "A      1787\n",
      "J      1331\n",
      "G      1212\n",
      "Co     1147\n",
      "Name: My_City, dtype: int64\n",
      "/----------------------------------------/\n",
      "\n",
      "Other Bank              25555\n",
      "HDFC Bank               17695\n",
      "ICICI Bank              13636\n",
      "State Bank of India     11843\n",
      "Axis Bank                8783\n",
      "Citibank                 2376\n",
      "Kotak Bank               2067\n",
      "IDBI Bank                1550\n",
      "Punjab National Bank     1201\n",
      "Bank of India            1170\n",
      "Bank of Baroda           1126\n",
      "Name: Salary_Account, dtype: int64\n",
      "/----------------------------------------/\n",
      "\n",
      "Y    56464\n",
      "N    30538\n",
      "Name: Mobile_Verified, dtype: int64\n",
      "/----------------------------------------/\n",
      "\n",
      "Web-browser    64298\n",
      "Mobile         22704\n",
      "Name: Device_Type, dtype: int64\n",
      "/----------------------------------------/\n",
      "\n",
      "S122    38549\n",
      "S133    29885\n",
      "S159     5599\n",
      "S143     4332\n",
      "S000     3681\n",
      "S127     1931\n",
      "S137     1724\n",
      "S134     1301\n",
      "Name: Source, dtype: int64\n",
      "/----------------------------------------/\n",
      "\n",
      "0     29069\n",
      "1     12236\n",
      "3      6759\n",
      "11     5204\n",
      "2      4485\n",
      "14     3662\n",
      "15     3509\n",
      "12     2989\n",
      "13     2622\n",
      "8      2515\n",
      "10     2427\n",
      "9      2281\n",
      "16     2097\n",
      "4      1815\n",
      "17     1691\n",
      "7      1489\n",
      "6       983\n",
      "5       975\n",
      "18      194\n",
      "Name: Var5, dtype: int64\n",
      "/----------------------------------------/\n",
      "\n",
      "HBXX    59276\n",
      "HBXC     9010\n",
      "HBXB     4479\n",
      "HAXA     2909\n",
      "HBXA     2123\n",
      "HAXB     2011\n",
      "HBXD     1964\n",
      "HAXC     1536\n",
      "HBXH      970\n",
      "HCXF      722\n",
      "HAYT      508\n",
      "HAVC      384\n",
      "HAXM      268\n",
      "HCXD      237\n",
      "HCYS      217\n",
      "HVYS      186\n",
      "HAZD      109\n",
      "HCXG       78\n",
      "HAXF       15\n",
      "Name: Var1, dtype: int64\n",
      "/----------------------------------------/\n",
      "\n",
      "N    67512\n",
      "Y    19490\n",
      "Name: Filled_Form, dtype: int64\n",
      "/----------------------------------------/\n",
      "\n",
      "B    37280\n",
      "G    33014\n",
      "C    14210\n",
      "E     1315\n",
      "D      634\n",
      "F      544\n",
      "A        5\n",
      "Name: Var2, dtype: int64\n",
      "/----------------------------------------/\n",
      "\n",
      "3    25260\n",
      "1    23906\n",
      "5    20265\n",
      "4     6577\n",
      "2     5931\n",
      "0     2530\n",
      "7     2301\n",
      "6      232\n",
      "Name: Var4, dtype: int64\n",
      "/----------------------------------------/\n",
      "\n"
     ]
    }
   ],
   "source": [
    "print(\"/-----Dane categoryczne-podsumowanie-----/\\n\")\n",
    "\n",
    "for i in cat_variables:\n",
    "    print(data[i].value_counts())\n",
    "    print(\"/----------------------------------------/\\n\")"
   ]
  },
  {
   "cell_type": "code",
   "execution_count": 161,
   "metadata": {},
   "outputs": [
    {
     "data": {
      "text/plain": [
       "Gender              2\n",
       "My_City            12\n",
       "Salary_Account     11\n",
       "Mobile_Verified     2\n",
       "Device_Type         2\n",
       "Source              8\n",
       "Var5               19\n",
       "Var1               19\n",
       "Filled_Form         2\n",
       "Var2                7\n",
       "Var4                8\n",
       "dtype: int64"
      ]
     },
     "execution_count": 161,
     "metadata": {},
     "output_type": "execute_result"
    }
   ],
   "source": [
    "data[cat_variables].nunique() # wartości unikalne"
   ]
  },
  {
   "cell_type": "markdown",
   "metadata": {},
   "source": [
    "# Modelowanie"
   ]
  },
  {
   "cell_type": "markdown",
   "metadata": {},
   "source": [
    "## PRZYGOTOWANIE DANYCH DO MODELOWANIA"
   ]
  },
  {
   "cell_type": "code",
   "execution_count": 162,
   "metadata": {},
   "outputs": [],
   "source": [
    "from sklearn.model_selection import train_test_split\n",
    "from sklearn.compose import ColumnTransformer\n",
    "from sklearn.preprocessing import StandardScaler\n",
    "from sklearn.pipeline import Pipeline\n",
    "from sklearn.ensemble import RandomForestClassifier\n",
    "from sklearn.linear_model import LogisticRegression\n",
    "from sklearn.metrics import classification_report\n",
    "from imblearn.under_sampling import RandomUnderSampler\n",
    "from imblearn.over_sampling import RandomOverSampler\n",
    "from sklearn.model_selection import GridSearchCV\n",
    "from sklearn.model_selection import StratifiedKFold\n",
    "from sklearn.naive_bayes import GaussianNB\n",
    "from sklearn.tree import DecisionTreeClassifier\n",
    "from sklearn.neighbors import KNeighborsClassifier\n",
    "from xgboost import XGBClassifier\n",
    "from sklearn.svm import SVC\n",
    "from sklearn import metrics\n",
    "from sklearn.metrics import roc_auc_score\n",
    "from sklearn.metrics import accuracy_score\n",
    "from sklearn.metrics import roc_curve \n",
    "from sklearn.metrics import auc\n",
    "from sklearn.metrics import classification_report\n",
    "from sklearn.metrics import plot_confusion_matrix\n",
    "\n",
    "seed=100"
   ]
  },
  {
   "cell_type": "code",
   "execution_count": 163,
   "metadata": {},
   "outputs": [],
   "source": [
    "#sklaluje dane numeryczne\n",
    "col_transformer = ColumnTransformer([\n",
    "    ('scaler', StandardScaler(), num_variables)],\n",
    "    remainder = 'passthrough')"
   ]
  },
  {
   "cell_type": "code",
   "execution_count": 164,
   "metadata": {},
   "outputs": [],
   "source": [
    "# tworzę kontener dla kolumn które usunę\n",
    "del_variables = ['Processing_Fee', 'Interest_Rate', 'EMI_Loan_Submitted']"
   ]
  },
  {
   "cell_type": "code",
   "execution_count": 165,
   "metadata": {},
   "outputs": [],
   "source": [
    "data = data.drop(del_variables, axis=1, inplace=False)"
   ]
  },
  {
   "cell_type": "code",
   "execution_count": 166,
   "metadata": {},
   "outputs": [],
   "source": [
    "dataset = pd.get_dummies(data=data, columns=cat_variables, drop_first=True)"
   ]
  },
  {
   "cell_type": "code",
   "execution_count": 167,
   "metadata": {},
   "outputs": [
    {
     "data": {
      "text/html": [
       "<div>\n",
       "<style scoped>\n",
       "    .dataframe tbody tr th:only-of-type {\n",
       "        vertical-align: middle;\n",
       "    }\n",
       "\n",
       "    .dataframe tbody tr th {\n",
       "        vertical-align: top;\n",
       "    }\n",
       "\n",
       "    .dataframe thead th {\n",
       "        text-align: right;\n",
       "    }\n",
       "</style>\n",
       "<table border=\"1\" class=\"dataframe\">\n",
       "  <thead>\n",
       "    <tr style=\"text-align: right;\">\n",
       "      <th></th>\n",
       "      <th>Monthly_Income</th>\n",
       "      <th>Loan_Amount_Applied</th>\n",
       "      <th>Loan_Tenure_Applied</th>\n",
       "      <th>Existing_EMI</th>\n",
       "      <th>Loan_Amount_Submitted</th>\n",
       "      <th>Loan_Tenure_Submitted</th>\n",
       "      <th>Disbursed</th>\n",
       "      <th>Age</th>\n",
       "      <th>My_Employees</th>\n",
       "      <th>Monthly_Income_Log</th>\n",
       "      <th>...</th>\n",
       "      <th>Var2_E</th>\n",
       "      <th>Var2_F</th>\n",
       "      <th>Var2_G</th>\n",
       "      <th>Var4_1</th>\n",
       "      <th>Var4_2</th>\n",
       "      <th>Var4_3</th>\n",
       "      <th>Var4_4</th>\n",
       "      <th>Var4_5</th>\n",
       "      <th>Var4_6</th>\n",
       "      <th>Var4_7</th>\n",
       "    </tr>\n",
       "  </thead>\n",
       "  <tbody>\n",
       "    <tr>\n",
       "      <th>0</th>\n",
       "      <td>20000</td>\n",
       "      <td>300000.0</td>\n",
       "      <td>5.0</td>\n",
       "      <td>0.0</td>\n",
       "      <td>0.0</td>\n",
       "      <td>0.0</td>\n",
       "      <td>0</td>\n",
       "      <td>37</td>\n",
       "      <td>0.000000</td>\n",
       "      <td>4.301052</td>\n",
       "      <td>...</td>\n",
       "      <td>0</td>\n",
       "      <td>0</td>\n",
       "      <td>1</td>\n",
       "      <td>1</td>\n",
       "      <td>0</td>\n",
       "      <td>0</td>\n",
       "      <td>0</td>\n",
       "      <td>0</td>\n",
       "      <td>0</td>\n",
       "      <td>0</td>\n",
       "    </tr>\n",
       "    <tr>\n",
       "      <th>1</th>\n",
       "      <td>35000</td>\n",
       "      <td>200000.0</td>\n",
       "      <td>2.0</td>\n",
       "      <td>0.0</td>\n",
       "      <td>200000.0</td>\n",
       "      <td>2.0</td>\n",
       "      <td>0</td>\n",
       "      <td>30</td>\n",
       "      <td>6.309918</td>\n",
       "      <td>4.544080</td>\n",
       "      <td>...</td>\n",
       "      <td>0</td>\n",
       "      <td>0</td>\n",
       "      <td>1</td>\n",
       "      <td>0</td>\n",
       "      <td>0</td>\n",
       "      <td>1</td>\n",
       "      <td>0</td>\n",
       "      <td>0</td>\n",
       "      <td>0</td>\n",
       "      <td>0</td>\n",
       "    </tr>\n",
       "    <tr>\n",
       "      <th>2</th>\n",
       "      <td>22500</td>\n",
       "      <td>600000.0</td>\n",
       "      <td>4.0</td>\n",
       "      <td>0.0</td>\n",
       "      <td>450000.0</td>\n",
       "      <td>4.0</td>\n",
       "      <td>0</td>\n",
       "      <td>34</td>\n",
       "      <td>0.000000</td>\n",
       "      <td>4.352202</td>\n",
       "      <td>...</td>\n",
       "      <td>0</td>\n",
       "      <td>0</td>\n",
       "      <td>0</td>\n",
       "      <td>1</td>\n",
       "      <td>0</td>\n",
       "      <td>0</td>\n",
       "      <td>0</td>\n",
       "      <td>0</td>\n",
       "      <td>0</td>\n",
       "      <td>0</td>\n",
       "    </tr>\n",
       "    <tr>\n",
       "      <th>3</th>\n",
       "      <td>35000</td>\n",
       "      <td>1000000.0</td>\n",
       "      <td>5.0</td>\n",
       "      <td>0.0</td>\n",
       "      <td>920000.0</td>\n",
       "      <td>5.0</td>\n",
       "      <td>0</td>\n",
       "      <td>28</td>\n",
       "      <td>1.098612</td>\n",
       "      <td>4.544080</td>\n",
       "      <td>...</td>\n",
       "      <td>0</td>\n",
       "      <td>0</td>\n",
       "      <td>0</td>\n",
       "      <td>0</td>\n",
       "      <td>0</td>\n",
       "      <td>1</td>\n",
       "      <td>0</td>\n",
       "      <td>0</td>\n",
       "      <td>0</td>\n",
       "      <td>0</td>\n",
       "    </tr>\n",
       "    <tr>\n",
       "      <th>4</th>\n",
       "      <td>100000</td>\n",
       "      <td>500000.0</td>\n",
       "      <td>2.0</td>\n",
       "      <td>25000.0</td>\n",
       "      <td>500000.0</td>\n",
       "      <td>2.0</td>\n",
       "      <td>0</td>\n",
       "      <td>31</td>\n",
       "      <td>1.386294</td>\n",
       "      <td>5.000004</td>\n",
       "      <td>...</td>\n",
       "      <td>0</td>\n",
       "      <td>0</td>\n",
       "      <td>0</td>\n",
       "      <td>0</td>\n",
       "      <td>0</td>\n",
       "      <td>1</td>\n",
       "      <td>0</td>\n",
       "      <td>0</td>\n",
       "      <td>0</td>\n",
       "      <td>0</td>\n",
       "    </tr>\n",
       "    <tr>\n",
       "      <th>...</th>\n",
       "      <td>...</td>\n",
       "      <td>...</td>\n",
       "      <td>...</td>\n",
       "      <td>...</td>\n",
       "      <td>...</td>\n",
       "      <td>...</td>\n",
       "      <td>...</td>\n",
       "      <td>...</td>\n",
       "      <td>...</td>\n",
       "      <td>...</td>\n",
       "      <td>...</td>\n",
       "      <td>...</td>\n",
       "      <td>...</td>\n",
       "      <td>...</td>\n",
       "      <td>...</td>\n",
       "      <td>...</td>\n",
       "      <td>...</td>\n",
       "      <td>...</td>\n",
       "      <td>...</td>\n",
       "      <td>...</td>\n",
       "      <td>...</td>\n",
       "    </tr>\n",
       "    <tr>\n",
       "      <th>87015</th>\n",
       "      <td>71901</td>\n",
       "      <td>1000000.0</td>\n",
       "      <td>5.0</td>\n",
       "      <td>14500.0</td>\n",
       "      <td>0.0</td>\n",
       "      <td>0.0</td>\n",
       "      <td>0</td>\n",
       "      <td>46</td>\n",
       "      <td>0.000000</td>\n",
       "      <td>4.856741</td>\n",
       "      <td>...</td>\n",
       "      <td>0</td>\n",
       "      <td>0</td>\n",
       "      <td>1</td>\n",
       "      <td>0</td>\n",
       "      <td>0</td>\n",
       "      <td>1</td>\n",
       "      <td>0</td>\n",
       "      <td>0</td>\n",
       "      <td>0</td>\n",
       "      <td>0</td>\n",
       "    </tr>\n",
       "    <tr>\n",
       "      <th>87016</th>\n",
       "      <td>16000</td>\n",
       "      <td>0.0</td>\n",
       "      <td>0.0</td>\n",
       "      <td>0.0</td>\n",
       "      <td>240000.0</td>\n",
       "      <td>4.0</td>\n",
       "      <td>0</td>\n",
       "      <td>25</td>\n",
       "      <td>0.693147</td>\n",
       "      <td>4.204147</td>\n",
       "      <td>...</td>\n",
       "      <td>0</td>\n",
       "      <td>0</td>\n",
       "      <td>1</td>\n",
       "      <td>0</td>\n",
       "      <td>0</td>\n",
       "      <td>0</td>\n",
       "      <td>0</td>\n",
       "      <td>1</td>\n",
       "      <td>0</td>\n",
       "      <td>0</td>\n",
       "    </tr>\n",
       "    <tr>\n",
       "      <th>87017</th>\n",
       "      <td>118000</td>\n",
       "      <td>0.0</td>\n",
       "      <td>0.0</td>\n",
       "      <td>0.0</td>\n",
       "      <td>1200000.0</td>\n",
       "      <td>4.0</td>\n",
       "      <td>0</td>\n",
       "      <td>43</td>\n",
       "      <td>0.000000</td>\n",
       "      <td>5.071886</td>\n",
       "      <td>...</td>\n",
       "      <td>0</td>\n",
       "      <td>0</td>\n",
       "      <td>1</td>\n",
       "      <td>0</td>\n",
       "      <td>0</td>\n",
       "      <td>1</td>\n",
       "      <td>0</td>\n",
       "      <td>0</td>\n",
       "      <td>0</td>\n",
       "      <td>0</td>\n",
       "    </tr>\n",
       "    <tr>\n",
       "      <th>87018</th>\n",
       "      <td>98930</td>\n",
       "      <td>800000.0</td>\n",
       "      <td>5.0</td>\n",
       "      <td>13660.0</td>\n",
       "      <td>800000.0</td>\n",
       "      <td>5.0</td>\n",
       "      <td>0</td>\n",
       "      <td>38</td>\n",
       "      <td>3.526361</td>\n",
       "      <td>4.995332</td>\n",
       "      <td>...</td>\n",
       "      <td>0</td>\n",
       "      <td>0</td>\n",
       "      <td>1</td>\n",
       "      <td>0</td>\n",
       "      <td>0</td>\n",
       "      <td>1</td>\n",
       "      <td>0</td>\n",
       "      <td>0</td>\n",
       "      <td>0</td>\n",
       "      <td>0</td>\n",
       "    </tr>\n",
       "    <tr>\n",
       "      <th>87019</th>\n",
       "      <td>42300</td>\n",
       "      <td>0.0</td>\n",
       "      <td>0.0</td>\n",
       "      <td>0.0</td>\n",
       "      <td>690000.0</td>\n",
       "      <td>4.0</td>\n",
       "      <td>0</td>\n",
       "      <td>27</td>\n",
       "      <td>4.060443</td>\n",
       "      <td>4.626351</td>\n",
       "      <td>...</td>\n",
       "      <td>0</td>\n",
       "      <td>0</td>\n",
       "      <td>1</td>\n",
       "      <td>0</td>\n",
       "      <td>0</td>\n",
       "      <td>0</td>\n",
       "      <td>1</td>\n",
       "      <td>0</td>\n",
       "      <td>0</td>\n",
       "      <td>0</td>\n",
       "    </tr>\n",
       "  </tbody>\n",
       "</table>\n",
       "<p>87002 rows × 94 columns</p>\n",
       "</div>"
      ],
      "text/plain": [
       "       Monthly_Income  Loan_Amount_Applied  Loan_Tenure_Applied  Existing_EMI  \\\n",
       "0               20000             300000.0                  5.0           0.0   \n",
       "1               35000             200000.0                  2.0           0.0   \n",
       "2               22500             600000.0                  4.0           0.0   \n",
       "3               35000            1000000.0                  5.0           0.0   \n",
       "4              100000             500000.0                  2.0       25000.0   \n",
       "...               ...                  ...                  ...           ...   \n",
       "87015           71901            1000000.0                  5.0       14500.0   \n",
       "87016           16000                  0.0                  0.0           0.0   \n",
       "87017          118000                  0.0                  0.0           0.0   \n",
       "87018           98930             800000.0                  5.0       13660.0   \n",
       "87019           42300                  0.0                  0.0           0.0   \n",
       "\n",
       "       Loan_Amount_Submitted  Loan_Tenure_Submitted  Disbursed  Age  \\\n",
       "0                        0.0                    0.0          0   37   \n",
       "1                   200000.0                    2.0          0   30   \n",
       "2                   450000.0                    4.0          0   34   \n",
       "3                   920000.0                    5.0          0   28   \n",
       "4                   500000.0                    2.0          0   31   \n",
       "...                      ...                    ...        ...  ...   \n",
       "87015                    0.0                    0.0          0   46   \n",
       "87016               240000.0                    4.0          0   25   \n",
       "87017              1200000.0                    4.0          0   43   \n",
       "87018               800000.0                    5.0          0   38   \n",
       "87019               690000.0                    4.0          0   27   \n",
       "\n",
       "       My_Employees  Monthly_Income_Log  ...  Var2_E  Var2_F  Var2_G  Var4_1  \\\n",
       "0          0.000000            4.301052  ...       0       0       1       1   \n",
       "1          6.309918            4.544080  ...       0       0       1       0   \n",
       "2          0.000000            4.352202  ...       0       0       0       1   \n",
       "3          1.098612            4.544080  ...       0       0       0       0   \n",
       "4          1.386294            5.000004  ...       0       0       0       0   \n",
       "...             ...                 ...  ...     ...     ...     ...     ...   \n",
       "87015      0.000000            4.856741  ...       0       0       1       0   \n",
       "87016      0.693147            4.204147  ...       0       0       1       0   \n",
       "87017      0.000000            5.071886  ...       0       0       1       0   \n",
       "87018      3.526361            4.995332  ...       0       0       1       0   \n",
       "87019      4.060443            4.626351  ...       0       0       1       0   \n",
       "\n",
       "       Var4_2  Var4_3  Var4_4  Var4_5  Var4_6  Var4_7  \n",
       "0           0       0       0       0       0       0  \n",
       "1           0       1       0       0       0       0  \n",
       "2           0       0       0       0       0       0  \n",
       "3           0       1       0       0       0       0  \n",
       "4           0       1       0       0       0       0  \n",
       "...       ...     ...     ...     ...     ...     ...  \n",
       "87015       0       1       0       0       0       0  \n",
       "87016       0       0       0       1       0       0  \n",
       "87017       0       1       0       0       0       0  \n",
       "87018       0       1       0       0       0       0  \n",
       "87019       0       0       1       0       0       0  \n",
       "\n",
       "[87002 rows x 94 columns]"
      ]
     },
     "execution_count": 167,
     "metadata": {},
     "output_type": "execute_result"
    }
   ],
   "source": [
    "dataset"
   ]
  },
  {
   "cell_type": "code",
   "execution_count": 168,
   "metadata": {},
   "outputs": [],
   "source": [
    "X = col_transformer.fit_transform(dataset.drop('Disbursed', axis=1))"
   ]
  },
  {
   "cell_type": "code",
   "execution_count": 169,
   "metadata": {},
   "outputs": [
    {
     "data": {
      "text/plain": [
       "(87002, 93)"
      ]
     },
     "execution_count": 169,
     "metadata": {},
     "output_type": "execute_result"
    }
   ],
   "source": [
    "X.shape"
   ]
  },
  {
   "cell_type": "code",
   "execution_count": 170,
   "metadata": {},
   "outputs": [],
   "source": [
    "y = dataset['Disbursed']"
   ]
  },
  {
   "cell_type": "code",
   "execution_count": 171,
   "metadata": {},
   "outputs": [
    {
     "data": {
      "text/plain": [
       "(87002,)"
      ]
     },
     "execution_count": 171,
     "metadata": {},
     "output_type": "execute_result"
    }
   ],
   "source": [
    "y.shape"
   ]
  },
  {
   "cell_type": "code",
   "execution_count": 172,
   "metadata": {},
   "outputs": [],
   "source": [
    "X_train, X_test, y_train, y_test = train_test_split(X, y, test_size=0.3)\n",
    "# dzielę zbiór na dane Trenigowe i Testowe "
   ]
  },
  {
   "cell_type": "code",
   "execution_count": 173,
   "metadata": {},
   "outputs": [
    {
     "data": {
      "text/plain": [
       "(60901, 93)"
      ]
     },
     "execution_count": 173,
     "metadata": {},
     "output_type": "execute_result"
    }
   ],
   "source": [
    "X_train.shape"
   ]
  },
  {
   "cell_type": "code",
   "execution_count": 174,
   "metadata": {},
   "outputs": [
    {
     "data": {
      "text/plain": [
       "(26101, 93)"
      ]
     },
     "execution_count": 174,
     "metadata": {},
     "output_type": "execute_result"
    }
   ],
   "source": [
    "X_test.shape"
   ]
  },
  {
   "cell_type": "code",
   "execution_count": 175,
   "metadata": {},
   "outputs": [
    {
     "data": {
      "text/plain": [
       "(60901,)"
      ]
     },
     "execution_count": 175,
     "metadata": {},
     "output_type": "execute_result"
    }
   ],
   "source": [
    "y_train.shape"
   ]
  },
  {
   "cell_type": "code",
   "execution_count": 176,
   "metadata": {},
   "outputs": [
    {
     "data": {
      "text/plain": [
       "(26101,)"
      ]
     },
     "execution_count": 176,
     "metadata": {},
     "output_type": "execute_result"
    }
   ],
   "source": [
    "y_test.shape"
   ]
  },
  {
   "cell_type": "code",
   "execution_count": 177,
   "metadata": {},
   "outputs": [
    {
     "data": {
      "text/plain": [
       "0    25703\n",
       "1      398\n",
       "Name: Disbursed, dtype: int64"
      ]
     },
     "execution_count": 177,
     "metadata": {},
     "output_type": "execute_result"
    }
   ],
   "source": [
    "y_test.value_counts()"
   ]
  },
  {
   "cell_type": "code",
   "execution_count": 178,
   "metadata": {},
   "outputs": [
    {
     "data": {
      "text/plain": [
       "0    60026\n",
       "1      875\n",
       "Name: Disbursed, dtype: int64"
      ]
     },
     "execution_count": 178,
     "metadata": {},
     "output_type": "execute_result"
    }
   ],
   "source": [
    "y_train.value_counts()"
   ]
  },
  {
   "cell_type": "markdown",
   "metadata": {},
   "source": [
    "##  Sprawdzam bazowy model dla niezbalansowanych klas LogisticRegression"
   ]
  },
  {
   "cell_type": "code",
   "execution_count": 179,
   "metadata": {},
   "outputs": [
    {
     "data": {
      "text/plain": [
       "Pipeline(steps=[('classifier', LogisticRegression())])"
      ]
     },
     "execution_count": 179,
     "metadata": {},
     "output_type": "execute_result"
    }
   ],
   "source": [
    "pipeline = Pipeline([\n",
    "                ('classifier', LogisticRegression())])\n",
    "\n",
    "pipeline.fit(X_train, y_train)"
   ]
  },
  {
   "cell_type": "code",
   "execution_count": 180,
   "metadata": {},
   "outputs": [
    {
     "name": "stdout",
     "output_type": "stream",
     "text": [
      "              precision    recall  f1-score   support\n",
      "\n",
      "           0       0.98      1.00      0.99     25703\n",
      "           1       0.00      0.00      0.00       398\n",
      "\n",
      "    accuracy                           0.98     26101\n",
      "   macro avg       0.49      0.50      0.50     26101\n",
      "weighted avg       0.97      0.98      0.98     26101\n",
      "\n"
     ]
    }
   ],
   "source": [
    "print(classification_report(y_test, pipeline.predict(X_test)))"
   ]
  },
  {
   "cell_type": "markdown",
   "metadata": {},
   "source": [
    "### Z powodu niezbalansowanego zbioru model nie daje zadawalających wyników \n",
    "### Musimy użyć metod na niezbalansowane klasy, sprawdzę metodę undersampling \n",
    "### oraz poszukam optymalnych parametrów za pomocą GridSearchCV"
   ]
  },
  {
   "cell_type": "code",
   "execution_count": 181,
   "metadata": {},
   "outputs": [],
   "source": [
    "undersample = RandomUnderSampler(random_state=seed)\n",
    "X_train_undersample, y_train_undersample = undersample.fit_resample(X_train, y_train)"
   ]
  },
  {
   "cell_type": "code",
   "execution_count": 182,
   "metadata": {},
   "outputs": [
    {
     "name": "stdout",
     "output_type": "stream",
     "text": [
      "0.7265697959183673\n"
     ]
    }
   ],
   "source": [
    "#bazowy model undersampling\n",
    "pipeline_unders = Pipeline([\n",
    "                    ('classifier', LogisticRegression())])\n",
    "\n",
    "pipeline_unders.fit(X_train_undersample, y_train_undersample)\n",
    "\n",
    "#ocena na danych train\n",
    "print(metrics.roc_auc_score(y_train_undersample, pipeline_unders.predict_proba(X_train_undersample)[:,1]))"
   ]
  },
  {
   "cell_type": "markdown",
   "metadata": {},
   "source": [
    "### Sprawdze modele z undersamplingiem oraz użyje GridSearchCV w celu znalezienia optymalnych partametrów"
   ]
  },
  {
   "cell_type": "code",
   "execution_count": 183,
   "metadata": {},
   "outputs": [
    {
     "name": "stdout",
     "output_type": "stream",
     "text": [
      "Under_GaussianNB\n",
      "{}\n",
      "Under_LogisticRegression\n",
      "{'classifier__C': 0.1}\n",
      "Under_RandomForestClassifier\n",
      "{'classifier__max_depth': 20, 'classifier__min_samples_leaf': 2, 'classifier__n_estimators': 100}\n",
      "Under_DecisionTreeClassifier\n",
      "{'classifier__max_depth': None, 'classifier__max_leaf_nodes': 10, 'classifier__min_samples_leaf': 2}\n",
      "Under_KNeighborsClassifier\n",
      "{}\n",
      "Under_XGBClassifier\n",
      "{'classifier__learning_rate': 0.1, 'classifier__max_depth': 3, 'classifier__n_estimators': 100}\n",
      "Under_SVC\n",
      "{'classifier__C': 1, 'classifier__gamma': 0.01}\n"
     ]
    }
   ],
   "source": [
    "kfold = StratifiedKFold(n_splits=10, random_state=seed)\n",
    "models=[]\n",
    "\n",
    "names = [\n",
    "    \"Under_GaussianNB\",\n",
    "    \"Under_LogisticRegression\",\n",
    "    \"Under_RandomForestClassifier\",\n",
    "    \"Under_DecisionTreeClassifier\",\n",
    "    \"Under_KNeighborsClassifier\",\n",
    "    \"Under_XGBClassifier\",\n",
    "    \"Under_SVC\", \n",
    "]\n",
    "\n",
    "pipelines = [\n",
    "    Pipeline(steps=[\n",
    "                    (\"classifier\", GaussianNB())]\n",
    "            ),\n",
    "    Pipeline(steps=[\n",
    "                    (\"classifier\", LogisticRegression())]\n",
    "            ),\n",
    "    Pipeline(steps=[\n",
    "                    (\"classifier\", RandomForestClassifier())]\n",
    "            ),\n",
    "    Pipeline(steps=[\n",
    "                    (\"classifier\", DecisionTreeClassifier())]\n",
    "            ),\n",
    "    Pipeline(steps=[\n",
    "                    (\"classifier\", KNeighborsClassifier())]\n",
    "            ),\n",
    "    Pipeline(steps=[\n",
    "                    (\"classifier\", XGBClassifier())]\n",
    "            ),\n",
    "    Pipeline(steps=[\n",
    "                    (\"classifier\", SVC(probability=True))]\n",
    "            ),\n",
    "]\n",
    "\n",
    "param_grids = [\n",
    "    {\n",
    "    },  \n",
    "    {    \n",
    "            \"classifier__C\": [0.1, 1, 10]\n",
    "    },\n",
    "    {\n",
    "            \"classifier__n_estimators\": [100, 200, 300],\n",
    "            \"classifier__min_samples_leaf\": [2, 5],\n",
    "            \"classifier__max_depth\": [None, 20, 10]\n",
    "    },\n",
    "\n",
    "    {\n",
    "            \"classifier__min_samples_leaf\": [2, 5, 10],\n",
    "            \"classifier__max_leaf_nodes\": [5, 10, 25],\n",
    "            \"classifier__max_depth\": [None, 10, 5]\n",
    "    },\n",
    "    {\n",
    "    },\n",
    "    {\n",
    "            \"classifier__n_estimators\": [100, 200, 650, 700],\n",
    "            \"classifier__learning_rate\": [0.001, 0.1, 0.5,],\n",
    "            \"classifier__max_depth\": [3, 5, 10]\n",
    "    },\n",
    "    {\n",
    "            \"classifier__gamma\": [0.01, 0.1, 1],\n",
    "            \"classifier__C\": [0.1, 1, 10, 15]\n",
    "    },\n",
    "]\n",
    "\n",
    "for name, mod, grid in zip(names, pipelines, param_grids):\n",
    "    gs = GridSearchCV(mod, grid, cv=kfold, return_train_score=True , refit=True)\n",
    "    gs.fit(X_train_undersample, y_train_undersample)\n",
    "    models.append((name, gs.best_estimator_))\n",
    "    print(name)\n",
    "    print(gs.best_params_)"
   ]
  },
  {
   "cell_type": "markdown",
   "metadata": {},
   "source": [
    "### Sprawdzam jak modele radzą sobie na danych Train"
   ]
  },
  {
   "cell_type": "code",
   "execution_count": 184,
   "metadata": {},
   "outputs": [
    {
     "data": {
      "text/html": [
       "<div>\n",
       "<style scoped>\n",
       "    .dataframe tbody tr th:only-of-type {\n",
       "        vertical-align: middle;\n",
       "    }\n",
       "\n",
       "    .dataframe tbody tr th {\n",
       "        vertical-align: top;\n",
       "    }\n",
       "\n",
       "    .dataframe thead th {\n",
       "        text-align: right;\n",
       "    }\n",
       "</style>\n",
       "<table border=\"1\" class=\"dataframe\">\n",
       "  <thead>\n",
       "    <tr style=\"text-align: right;\">\n",
       "      <th></th>\n",
       "      <th>Method</th>\n",
       "      <th>roc_auc_score</th>\n",
       "      <th>precision_score</th>\n",
       "      <th>recall_score</th>\n",
       "      <th>f1_score</th>\n",
       "      <th>accuracy_score</th>\n",
       "    </tr>\n",
       "  </thead>\n",
       "  <tbody>\n",
       "    <tr>\n",
       "      <th>0</th>\n",
       "      <td>Under_GaussianNB</td>\n",
       "      <td>0.748353</td>\n",
       "      <td>0.664537</td>\n",
       "      <td>0.600000</td>\n",
       "      <td>0.556512</td>\n",
       "      <td>0.600000</td>\n",
       "    </tr>\n",
       "    <tr>\n",
       "      <th>1</th>\n",
       "      <td>Under_LogisticRegression</td>\n",
       "      <td>0.726570</td>\n",
       "      <td>0.642839</td>\n",
       "      <td>0.556571</td>\n",
       "      <td>0.477712</td>\n",
       "      <td>0.556571</td>\n",
       "    </tr>\n",
       "    <tr>\n",
       "      <th>2</th>\n",
       "      <td>Under_RandomForestClassifier</td>\n",
       "      <td>0.992827</td>\n",
       "      <td>0.946793</td>\n",
       "      <td>0.945714</td>\n",
       "      <td>0.945681</td>\n",
       "      <td>0.945714</td>\n",
       "    </tr>\n",
       "    <tr>\n",
       "      <th>3</th>\n",
       "      <td>Under_DecisionTreeClassifier</td>\n",
       "      <td>0.832496</td>\n",
       "      <td>0.767915</td>\n",
       "      <td>0.765143</td>\n",
       "      <td>0.764534</td>\n",
       "      <td>0.765143</td>\n",
       "    </tr>\n",
       "    <tr>\n",
       "      <th>4</th>\n",
       "      <td>Under_KNeighborsClassifier</td>\n",
       "      <td>0.883080</td>\n",
       "      <td>0.795676</td>\n",
       "      <td>0.794286</td>\n",
       "      <td>0.794044</td>\n",
       "      <td>0.794286</td>\n",
       "    </tr>\n",
       "    <tr>\n",
       "      <th>5</th>\n",
       "      <td>Under_XGBClassifier</td>\n",
       "      <td>0.914002</td>\n",
       "      <td>0.829734</td>\n",
       "      <td>0.823429</td>\n",
       "      <td>0.822580</td>\n",
       "      <td>0.823429</td>\n",
       "    </tr>\n",
       "    <tr>\n",
       "      <th>6</th>\n",
       "      <td>Under_SVC</td>\n",
       "      <td>0.994403</td>\n",
       "      <td>0.968061</td>\n",
       "      <td>0.968000</td>\n",
       "      <td>0.967999</td>\n",
       "      <td>0.968000</td>\n",
       "    </tr>\n",
       "  </tbody>\n",
       "</table>\n",
       "</div>"
      ],
      "text/plain": [
       "                         Method  roc_auc_score  precision_score  recall_score  \\\n",
       "0              Under_GaussianNB       0.748353         0.664537      0.600000   \n",
       "1      Under_LogisticRegression       0.726570         0.642839      0.556571   \n",
       "2  Under_RandomForestClassifier       0.992827         0.946793      0.945714   \n",
       "3  Under_DecisionTreeClassifier       0.832496         0.767915      0.765143   \n",
       "4    Under_KNeighborsClassifier       0.883080         0.795676      0.794286   \n",
       "5           Under_XGBClassifier       0.914002         0.829734      0.823429   \n",
       "6                     Under_SVC       0.994403         0.968061      0.968000   \n",
       "\n",
       "   f1_score  accuracy_score  \n",
       "0  0.556512        0.600000  \n",
       "1  0.477712        0.556571  \n",
       "2  0.945681        0.945714  \n",
       "3  0.764534        0.765143  \n",
       "4  0.794044        0.794286  \n",
       "5  0.822580        0.823429  \n",
       "6  0.967999        0.968000  "
      ]
     },
     "execution_count": 184,
     "metadata": {},
     "output_type": "execute_result"
    }
   ],
   "source": [
    "names=[]\n",
    "precision_score = []\n",
    "recall_score = []\n",
    "f1_score = []\n",
    "accuracy_score = []\n",
    "roc_auc_score = []\n",
    "for name, model in models:\n",
    "    names.append(name)\n",
    "    precision_score.append(metrics.precision_score(y_train_undersample, model.predict(X_train_undersample), average='weighted'))\n",
    "    recall_score.append(metrics.recall_score(y_train_undersample, model.predict(X_train_undersample), average='weighted'))\n",
    "    f1_score.append( metrics.f1_score(y_train_undersample, model.predict(X_train_undersample), average='weighted'))\n",
    "    accuracy_score.append(metrics.accuracy_score(y_train_undersample, model.predict(X_train_undersample)))\n",
    "    roc_auc_score.append(metrics.roc_auc_score(y_train_undersample, model.predict_proba(X_train_undersample)[:,1]))\n",
    "    \n",
    "d = {'roc_auc_score': roc_auc_score, \n",
    "     'precision_score': precision_score, \n",
    "     'recall_score': recall_score,\n",
    "     'f1_score' : f1_score,\n",
    "     'accuracy_score' : accuracy_score\n",
    "    }\n",
    "df = pd.DataFrame(data=d)\n",
    "df.insert(loc=0, column='Method', value=names)\n",
    "df"
   ]
  },
  {
   "cell_type": "markdown",
   "metadata": {},
   "source": [
    "### oraz na danych Testowych\n",
    "### Porównanie przeliczonych modeli na danych testowych:"
   ]
  },
  {
   "cell_type": "code",
   "execution_count": 185,
   "metadata": {},
   "outputs": [
    {
     "data": {
      "text/html": [
       "<div>\n",
       "<style scoped>\n",
       "    .dataframe tbody tr th:only-of-type {\n",
       "        vertical-align: middle;\n",
       "    }\n",
       "\n",
       "    .dataframe tbody tr th {\n",
       "        vertical-align: top;\n",
       "    }\n",
       "\n",
       "    .dataframe thead th {\n",
       "        text-align: right;\n",
       "    }\n",
       "</style>\n",
       "<table border=\"1\" class=\"dataframe\">\n",
       "  <thead>\n",
       "    <tr style=\"text-align: right;\">\n",
       "      <th></th>\n",
       "      <th>Method</th>\n",
       "      <th>roc_auc_score</th>\n",
       "      <th>precision_score</th>\n",
       "      <th>recall_score</th>\n",
       "      <th>f1_score</th>\n",
       "      <th>accuracy_score</th>\n",
       "    </tr>\n",
       "  </thead>\n",
       "  <tbody>\n",
       "    <tr>\n",
       "      <th>0</th>\n",
       "      <td>Under_GaussianNB</td>\n",
       "      <td>0.744253</td>\n",
       "      <td>0.974025</td>\n",
       "      <td>0.881729</td>\n",
       "      <td>0.923713</td>\n",
       "      <td>0.881729</td>\n",
       "    </tr>\n",
       "    <tr>\n",
       "      <th>1</th>\n",
       "      <td>Under_LogisticRegression</td>\n",
       "      <td>0.706186</td>\n",
       "      <td>0.979264</td>\n",
       "      <td>0.177426</td>\n",
       "      <td>0.280181</td>\n",
       "      <td>0.177426</td>\n",
       "    </tr>\n",
       "    <tr>\n",
       "      <th>2</th>\n",
       "      <td>Under_RandomForestClassifier</td>\n",
       "      <td>0.836626</td>\n",
       "      <td>0.981914</td>\n",
       "      <td>0.680740</td>\n",
       "      <td>0.795918</td>\n",
       "      <td>0.680740</td>\n",
       "    </tr>\n",
       "    <tr>\n",
       "      <th>3</th>\n",
       "      <td>Under_DecisionTreeClassifier</td>\n",
       "      <td>0.800156</td>\n",
       "      <td>0.980207</td>\n",
       "      <td>0.669783</td>\n",
       "      <td>0.788226</td>\n",
       "      <td>0.669783</td>\n",
       "    </tr>\n",
       "    <tr>\n",
       "      <th>4</th>\n",
       "      <td>Under_KNeighborsClassifier</td>\n",
       "      <td>0.763681</td>\n",
       "      <td>0.979530</td>\n",
       "      <td>0.677292</td>\n",
       "      <td>0.793691</td>\n",
       "      <td>0.677292</td>\n",
       "    </tr>\n",
       "    <tr>\n",
       "      <th>5</th>\n",
       "      <td>Under_XGBClassifier</td>\n",
       "      <td>0.837593</td>\n",
       "      <td>0.981681</td>\n",
       "      <td>0.695874</td>\n",
       "      <td>0.806646</td>\n",
       "      <td>0.695874</td>\n",
       "    </tr>\n",
       "    <tr>\n",
       "      <th>6</th>\n",
       "      <td>Under_SVC</td>\n",
       "      <td>0.606761</td>\n",
       "      <td>0.981618</td>\n",
       "      <td>0.266695</td>\n",
       "      <td>0.402009</td>\n",
       "      <td>0.266695</td>\n",
       "    </tr>\n",
       "  </tbody>\n",
       "</table>\n",
       "</div>"
      ],
      "text/plain": [
       "                         Method  roc_auc_score  precision_score  recall_score  \\\n",
       "0              Under_GaussianNB       0.744253         0.974025      0.881729   \n",
       "1      Under_LogisticRegression       0.706186         0.979264      0.177426   \n",
       "2  Under_RandomForestClassifier       0.836626         0.981914      0.680740   \n",
       "3  Under_DecisionTreeClassifier       0.800156         0.980207      0.669783   \n",
       "4    Under_KNeighborsClassifier       0.763681         0.979530      0.677292   \n",
       "5           Under_XGBClassifier       0.837593         0.981681      0.695874   \n",
       "6                     Under_SVC       0.606761         0.981618      0.266695   \n",
       "\n",
       "   f1_score  accuracy_score  \n",
       "0  0.923713        0.881729  \n",
       "1  0.280181        0.177426  \n",
       "2  0.795918        0.680740  \n",
       "3  0.788226        0.669783  \n",
       "4  0.793691        0.677292  \n",
       "5  0.806646        0.695874  \n",
       "6  0.402009        0.266695  "
      ]
     },
     "execution_count": 185,
     "metadata": {},
     "output_type": "execute_result"
    }
   ],
   "source": [
    "names=[]\n",
    "precision_score = []\n",
    "recall_score = []\n",
    "f1_score = []\n",
    "accuracy_score = []\n",
    "roc_auc_score = []\n",
    "for name, model in models:\n",
    "    names.append(name)\n",
    "    precision_score.append(metrics.precision_score(y_test, model.predict(X_test), average='weighted'))\n",
    "    recall_score.append(metrics.recall_score(y_test, model.predict(X_test), average='weighted'))\n",
    "    f1_score.append( metrics.f1_score(y_test, model.predict(X_test), average='weighted'))\n",
    "    accuracy_score.append(metrics.accuracy_score(y_test, model.predict(X_test)))\n",
    "    roc_auc_score.append(metrics.roc_auc_score(y_test, model.predict_proba(X_test)[:,1]))\n",
    "    \n",
    "d = {'roc_auc_score': roc_auc_score, \n",
    "     'precision_score': precision_score, \n",
    "     'recall_score': recall_score,\n",
    "     'f1_score' : f1_score,\n",
    "     'accuracy_score' : accuracy_score,\n",
    "    }\n",
    "df = pd.DataFrame(data=d)\n",
    "df.insert(loc=0, column='Method', value=names)\n",
    "df"
   ]
  },
  {
   "cell_type": "markdown",
   "metadata": {},
   "source": [
    "## Podsumowanie Wyników"
   ]
  },
  {
   "cell_type": "markdown",
   "metadata": {},
   "source": [
    "- Wnioski: Najlepiej z przewidywaniem kto dostanie porzyczke radzi sobie model Under_XGBClassifier (najwyższy Roc auc score), bardzo dobry wynik ma też Under_RandomForestClassifier. \n",
    "- Model Under_SVC miał świetny wynik na zbiorze treningowym, ale na zbiorze testowym nie pordził już sobie tak dobrze.\n",
    "    "
   ]
  }
 ],
 "metadata": {
  "kernelspec": {
   "display_name": "Python 3",
   "language": "python",
   "name": "python3"
  },
  "language_info": {
   "codemirror_mode": {
    "name": "ipython",
    "version": 3
   },
   "file_extension": ".py",
   "mimetype": "text/x-python",
   "name": "python",
   "nbconvert_exporter": "python",
   "pygments_lexer": "ipython3",
   "version": "3.8.5"
  }
 },
 "nbformat": 4,
 "nbformat_minor": 4
}
